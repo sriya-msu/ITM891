{
  "nbformat": 4,
  "nbformat_minor": 0,
  "metadata": {
    "colab": {
      "provenance": []
    },
    "kernelspec": {
      "name": "python3",
      "display_name": "Python 3"
    },
    "language_info": {
      "name": "python"
    }
  },
  "cells": [
    {
      "cell_type": "code",
      "execution_count": 2,
      "metadata": {
        "id": "HAC8az2B1tQ0"
      },
      "outputs": [],
      "source": [
        "import numpy as np"
      ]
    },
    {
      "cell_type": "markdown",
      "source": [
        "Question 1"
      ],
      "metadata": {
        "id": "mHRKZURqqYF5"
      }
    },
    {
      "cell_type": "code",
      "source": [
        "a = np.array([30, 45, 22, 75, 84])\n",
        "b = np.array([67, 40, 90, 13, 56])\n",
        "print(a > b)\n",
        "a[a > 30] = 50\n",
        "print(a)"
      ],
      "metadata": {
        "colab": {
          "base_uri": "https://localhost:8080/"
        },
        "id": "5fG1D_2B2VoD",
        "outputId": "7bad3d89-15c6-411b-90ea-21242588d0b4"
      },
      "execution_count": 8,
      "outputs": [
        {
          "output_type": "stream",
          "name": "stdout",
          "text": [
            "[False  True False  True  True]\n",
            "[30 50 22 50 50]\n"
          ]
        }
      ]
    },
    {
      "cell_type": "markdown",
      "source": [
        "Question 2"
      ],
      "metadata": {
        "id": "JWKFc7XWqcwN"
      }
    },
    {
      "cell_type": "code",
      "source": [
        "x = np.array([[5, 2, 6, 1], [3, 4, 7, 2], [8, 1, 2, 9], [3, 4, 2, 6]])\n",
        "print(x[0][2] + x[3][1])\n",
        "print(np.sum([[0, 2], [3, 1]]))"
      ],
      "metadata": {
        "colab": {
          "base_uri": "https://localhost:8080/"
        },
        "id": "9Gdgqgpe7bvo",
        "outputId": "1ad150f1-c73f-4d8f-fb65-9110c2d80ef0"
      },
      "execution_count": 9,
      "outputs": [
        {
          "output_type": "stream",
          "name": "stdout",
          "text": [
            "10\n",
            "6\n"
          ]
        }
      ]
    },
    {
      "cell_type": "markdown",
      "source": [
        "Question 3"
      ],
      "metadata": {
        "id": "nvEmyfS-qi8y"
      }
    },
    {
      "cell_type": "code",
      "source": [
        "c = np.array([[1, 0], [8, 1]])\n",
        "d = np.array([[4, 1], [2, 2]])\n",
        "np.dot(c, d)"
      ],
      "metadata": {
        "colab": {
          "base_uri": "https://localhost:8080/"
        },
        "id": "RdvlDBFV9xJi",
        "outputId": "dddefce3-7acb-4966-a468-34f9ee0b525d"
      },
      "execution_count": 10,
      "outputs": [
        {
          "output_type": "execute_result",
          "data": {
            "text/plain": [
              "array([[ 4,  1],\n",
              "       [34, 10]])"
            ]
          },
          "metadata": {},
          "execution_count": 10
        }
      ]
    },
    {
      "cell_type": "markdown",
      "source": [
        "Question 4"
      ],
      "metadata": {
        "id": "cxv3fE1xqm2t"
      }
    },
    {
      "cell_type": "code",
      "source": [
        "a = np.array([[1, 4], [2, 9], [5, 6]])\n",
        "print(a.shape)"
      ],
      "metadata": {
        "colab": {
          "base_uri": "https://localhost:8080/"
        },
        "id": "BDxiyF5w-STF",
        "outputId": "a46203a5-64f3-4e3c-a3f2-f225b1d02475"
      },
      "execution_count": 11,
      "outputs": [
        {
          "output_type": "stream",
          "name": "stdout",
          "text": [
            "(3, 2)\n"
          ]
        }
      ]
    },
    {
      "cell_type": "markdown",
      "source": [
        "Question 5"
      ],
      "metadata": {
        "id": "FvERuh_pqzyK"
      }
    },
    {
      "cell_type": "code",
      "source": [
        "x = np.array([[1, 2], [3, 4]])\n",
        "y = np.array([[5, 6], [7, 8], [9, 0]])\n",
        "np.vstack([x, y])"
      ],
      "metadata": {
        "colab": {
          "base_uri": "https://localhost:8080/"
        },
        "id": "aJ8Tc-Jw-kkR",
        "outputId": "7409202f-74b1-4719-b8d5-7bdb1da8e380"
      },
      "execution_count": 12,
      "outputs": [
        {
          "output_type": "execute_result",
          "data": {
            "text/plain": [
              "array([[1, 2],\n",
              "       [3, 4],\n",
              "       [5, 6],\n",
              "       [7, 8],\n",
              "       [9, 0]])"
            ]
          },
          "metadata": {},
          "execution_count": 12
        }
      ]
    },
    {
      "cell_type": "markdown",
      "source": [
        "Question 6"
      ],
      "metadata": {
        "id": "oI8BDKHiqrdf"
      }
    },
    {
      "cell_type": "code",
      "source": [
        "trial = 100000\n",
        "x = np.random.uniform(-1, 1, size= trial)\n",
        "y = np.random.uniform(-1, 1, size= trial)\n",
        "z = x**2 + y**2\n",
        "area = np.sum(z<=1)/trial\n",
        "area"
      ],
      "metadata": {
        "id": "UdoGn_KNAoc7",
        "colab": {
          "base_uri": "https://localhost:8080/"
        },
        "outputId": "47d1e97b-c3e4-44b4-bdfb-fab502eabe07"
      },
      "execution_count": 12,
      "outputs": [
        {
          "output_type": "execute_result",
          "data": {
            "text/plain": [
              "0.78553"
            ]
          },
          "metadata": {},
          "execution_count": 12
        }
      ]
    },
    {
      "cell_type": "markdown",
      "source": [
        "Question 7\n"
      ],
      "metadata": {
        "id": "q81SICuzClwr"
      }
    },
    {
      "cell_type": "code",
      "source": [
        "trial = 100000\n",
        "x = np.random.randn(trial)\n",
        "y = np.random.randn(trial)\n",
        "z = x*2 + y*2\n",
        "probability = np.sum(z <= 1)/trial\n",
        "probability"
      ],
      "metadata": {
        "colab": {
          "base_uri": "https://localhost:8080/"
        },
        "id": "zjOuXPnrCqCX",
        "outputId": "163ce277-1b6d-4f63-b2ae-71b87deefd74"
      },
      "execution_count": 11,
      "outputs": [
        {
          "output_type": "execute_result",
          "data": {
            "text/plain": [
              "0.63901"
            ]
          },
          "metadata": {},
          "execution_count": 11
        }
      ]
    },
    {
      "cell_type": "markdown",
      "source": [
        "Question 8"
      ],
      "metadata": {
        "id": "cdCHhHRSEZYo"
      }
    },
    {
      "cell_type": "code",
      "source": [
        "trial = 100000\n",
        "x = np.random.randint(1, 7, size=3*trial)\n",
        "reshaped_matrix = x.reshape(trial,3)\n",
        "rolls_sum = reshaped_matrix.sum(-1)\n",
        "probability = np.sum(rolls_sum > 10)/trial\n",
        "probability"
      ],
      "metadata": {
        "colab": {
          "base_uri": "https://localhost:8080/"
        },
        "id": "bQ7cOv1cEXh3",
        "outputId": "ac7c158c-2437-49d6-b730-02351d37968a"
      },
      "execution_count": 13,
      "outputs": [
        {
          "output_type": "execute_result",
          "data": {
            "text/plain": [
              "0.49845"
            ]
          },
          "metadata": {},
          "execution_count": 13
        }
      ]
    },
    {
      "cell_type": "code",
      "source": [],
      "metadata": {
        "id": "wUZNJqMtHSIh"
      },
      "execution_count": null,
      "outputs": []
    }
  ]
}