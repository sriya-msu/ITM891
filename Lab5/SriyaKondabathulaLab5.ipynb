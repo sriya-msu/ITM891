{
  "nbformat": 4,
  "nbformat_minor": 0,
  "metadata": {
    "colab": {
      "provenance": []
    },
    "kernelspec": {
      "name": "python3",
      "display_name": "Python 3"
    },
    "language_info": {
      "name": "python"
    }
  },
  "cells": [
    {
      "cell_type": "markdown",
      "source": [
        "##Eigenvalues and Eigenvectors\n",
        "\n",
        "Eigenvectors are unit vectors with length or magnitude equal to 1. Eigenvalues are coefficients applied to eigenvectors that give the vectors their length or magnitude.\n",
        "\n",
        "PCA uses eigendecomposition. A matrix is decomposed into:\n",
        "\n",
        "* A diagonal matrix formed from eigenvalues of the matrix\n",
        "\n",
        "* A matrix formed by the eigenvectors of the matrix\n",
        "\n",
        "Additionally, PCA is a method that: \n",
        "* Measures how each variable is associated with one another using a covariance matrix\n",
        "* Understands the directions of the spread of our data using eigenvectors\n",
        "* Brings out the relative importance of these directions using eigenvalues\n",
        "\n",
        "\n",
        "From CSE 801 Lecture 4 Slides: \n",
        "\n",
        "By finding the eigenvalues and eigenvectors of the covariance\n",
        "matrix of data, we find that the eigenvectors with the largest\n",
        "eigenvalues correspond to the dimensions that have the strongest\n",
        "correlation in the dataset.\n",
        "\n",
        "\n",
        "---"
      ],
      "metadata": {
        "id": "t_erxIf42K1T"
      }
    },
    {
      "cell_type": "markdown",
      "source": [
        "*Note: for the coding problems, you can use a preexisting function in either numpy or the numpy.linalg library to answer most/all of the parts.*\n",
        "\n",
        "*For reference:* https://numpy.org/doc/stable/reference/routines.linalg.html"
      ],
      "metadata": {
        "id": "JDKsKcyckDzw"
      }
    },
    {
      "cell_type": "markdown",
      "source": [
        "###Problem 1\n",
        "Given matrix A, and **using np and the np.linalg library**:\n",
        "\\begin{equation*}\n",
        "A = \n",
        "\\begin{bmatrix}\n",
        "1 & 3 \\\\\n",
        "6 & 2 \\\\\n",
        "\\end{bmatrix}\n",
        "\\end{equation*}\n",
        "a) Calculate the eigenvalues and eigenvectors for matrix A. Make sure you indicate which are the eigenvalues and which are the eigenvectors through a comment or print statement. \n",
        "\n",
        "b) Calculate the product of the eigenvalues of A which you found in part a. \n",
        "\n",
        "c) Geometrically, the determinant is seen as the volume scaling factor of the linear transformation defined by the matrix. They can be considered as functions of stretching out and the shrinking in of the matrices. Determinants take a square matrix as the input and return a single number as output.  Calculate the determinant of A, and write a few words comparing your answer to your answer in part b. \n",
        "\n",
        "d) Given any n × n real or complex matrix A, there is\n",
        "\n",
        "![image.png](data:image/png;base64,iVBORw0KGgoAAAANSUhEUgAAAHUAAAA3CAYAAAAylAXbAAAFF0lEQVR4nO2c25naRhSAf8V+N6SBoDSwSwWGrUC4AC+kAjYNeKkguw3ErAuI2QZsXIHZCowrAL/ljTwcTWYkS2gkjZCw5/8+fVx0G+bMnNscAR6Px+PxnCUj4Dp+fwm8AQbtNQd+afPmPwA9RKgzYI0I8wl432ajPPUYIYLcAJHx3aa1Fnmc0AcOxuf7ePOcMRNE9Sq2wBiYttMcb1Nd8JKkUH8Ddoi99ZwpEUkBRsC8pbZ4PJ6zIWi7AWdAgHi3Zl+lP+d9l8eh+BBPU6zj7eB48yFPizyiBfEZiUmD1EbGd0F87AgJeRZIQkJdaxfv97RAH4k7Xc2wED3zZzWvdVJcJrNbTYzHDEmqzomDa95wRqnEJXaZlEvsgvMV0qltsyCpOkMH13xEMk9FtOrM3mKnnkKkc9ZFB6LVXxfsj+kwfXRwvR7HB0cvvueOGtphhsygKoTAHrvOv0d3js2In+GmE+vSR36javviRPfdAl+qnrzATh1kscRulgYkO8bmHNWZLlReXSYk7WvV/iqDmgSVzNAT1Rqplp5sbjojKdQddjbjARk4XcDUNF9o3jQoc1Xq9/cQe3hAvLIxWkADJNZ6iajmkO8T2Gr02rBGBGTGfzau/Z+IGupKBsyMOVcnup/tBADgDt3IDfAJrRanxr5HZLSkdfwCO6dHjbghSTVmc+4V9jY4KxGQt1VlSFLj3NS4lg03VAinxhy3EQe0I3RLUhWskIFQxD06NgtIBvVFwvq9oH2KedyW9LbO2eoskamOVmakydCrkgq2EWrejFpTLFTlIJmq1oz9ihwmlVQ/hWNShhXJNGJTLNGaIcuG7xEzCejKBxub+JTzfYCM1GNMgRfABTLTb5EKAcVri/t3kSnwNX4f0kwGbIn0sVLxUcYxI4xJ9zx+DVKvY8Rubo0T9zk3tYlPr5HZ/M24x1dkoFwgjteE/NJK29KQSXw9Wz5RLwbeIwP0LdJn2+OHl2aJdlb7wN/IBHhrHHNJKuX4nCQXwAfE292nGpk3mzfx8XmE8f4rvu/ADfBP/P6afKEqe5U3sBRbZODYUjmojwmBv4A/cK9+HxB5KLW6A94hQg2Rts8RoQ/ImME9RGh38efVkX1pJmSr3xAZvct4/5ikegrjBu/Qdiki226+otwi9CnoI4JswvN9QAZwWp2rqOEGkcsdYgJyw6opMtI/ox0aVXlubmkvTyUf0h5s1rmzgv3K6UoL7x670OeUqJjbNSNEoHkp2w1JDbPCYhGlymxIC8w1m4avX5YH2h1kSkYDZAD0aMBJG9Pcj7zCvQNShwXi4HVh5WiOmLcRRkjjkkfcLCCbBMhgyXLj20Dlrl0IdIz4CnUYIEJtrM64j9hDl5XpC7qTyB8jAnWROeohdrELK0+F9HA7q7pS6T5Ee/B1CRFntGuO309FH5lVdR21IRKCqBCuMcevS3FfF+kjCRO1SpXVX3lJGbUi9YJsJ+ZXitOrngYwE/Yutybi2//xM/U4pg1NP3ZRh3Re3ePx/HQ8a7sBZ0YE/EvxalEWylmqcq6nQdTf6pRhhK7taiSV52mPNScSqv8jDztUGW1XctBHSVc+eLKZIzPtFolde+gYNs0TUn3xkZZSgV6oxagHlSJ0bJmo3iuBzwt0jC3JaoSyheJrTlTi6meqHRG6EC9CBFRUm9Sa+vXqwI4pUhH5DbGrZWJN9SzSFBHyloYfg/RCtWeECKRszlaVcIJ+0sCvpXo8Hs+Px39ElXoDbJ2VCQAAAABJRU5ErkJggg==)\n",
        "\n",
        "where λ1, ..., λn are the eigenvalues of A counted with multiplicity. This equation shows that the trace of a matrix is the sum of its eigenvalues. This holds true even if A is a real matrix and some (or all) of the eigenvalues are complex numbers. Calculate the trace of A. \n",
        "\n",
        "e) If possible, compute A*A using matrix multiplication (hint: dot product). If not, explain why it is not possible. "
      ],
      "metadata": {
        "id": "2_aeeG4CO7W0"
      }
    },
    {
      "cell_type": "code",
      "execution_count": 11,
      "metadata": {
        "id": "YYZrBzXaOxvr",
        "colab": {
          "base_uri": "https://localhost:8080/"
        },
        "outputId": "e3aec80b-9800-4d8a-f828-8b923b3a2438"
      },
      "outputs": [
        {
          "output_type": "stream",
          "name": "stdout",
          "text": [
            "[[1 3]\n",
            " [6 2]]\n",
            "Eigen values of A:  [-2.77200187  5.77200187]\n",
            "Eigen vectors of A:  [[-0.62246561 -0.53222953]\n",
            " [ 0.78264715 -0.8466001 ]]\n",
            "product of eigenvalues of A:  -15.999999999999998\n",
            "Determinant of A:  -15.999999999999998\n",
            "The determinant of A in (c) is equal to the product of its eigenvalues in (b)\n",
            "Trace of A: 3\n",
            "matrix multiplication of A:  [[19  9]\n",
            " [18 22]]\n"
          ]
        }
      ],
      "source": [
        "import numpy as np \n",
        "from numpy.linalg import eig\n",
        "\n",
        "# Note: create matrix A using np.array\n",
        "A = np.array([[1,3],[6,2]])\n",
        "print(A)\n",
        "\n",
        "#1(a)\n",
        "val, vec = np.linalg.eig(A)\n",
        "print(\"Eigen values of A: \", val)\n",
        "print(\"Eigen vectors of A: \", vec)\n",
        "\n",
        "#1(b)\n",
        "prod_of_eigenvalues_A = np.prod(val)\n",
        "print(\"product of eigenvalues of A: \", prod_of_eigenvalues_A)\n",
        "\n",
        "#1(c)\n",
        "determinant_A = np.linalg.det(A)\n",
        "print(\"Determinant of A: \",determinant_A)\n",
        "print(\"The determinant of A is equal to the product of its eigenvalues\")\n",
        "\n",
        "#1(d)\n",
        "trace_A = np.trace(A)\n",
        "print(\"Trace of A:\", trace_A)\n",
        "\n",
        "#1(e)\n",
        "m_a = np.dot(A, A)\n",
        "print(\"matrix multiplication of A: \", m_a)"
      ]
    },
    {
      "cell_type": "markdown",
      "source": [
        "###Problem 2\n",
        "Given matrix B: \\begin{equation*}\n",
        "B = \n",
        "\\begin{bmatrix}\n",
        "4 & 2 & 1 \\\\\n",
        "6 & 0 & 7 \\\\\n",
        "3 & 1 & 3\n",
        "\\end{bmatrix}\n",
        "\\end{equation*}\n",
        "\n",
        "a) Calculate the eigenvalues and eigenvectors for matrix B. Make sure you indicate which are the eigenvalues and which are the eigenvectors through a comment or print statement. \n",
        "\n",
        "b) Calculate the determinant of B. \n",
        "\n",
        "c) If possible, perform matrix multiplication on A and B. If not, explain why it is not possible. \n"
      ],
      "metadata": {
        "id": "ICkl4xTVQJzO"
      }
    },
    {
      "cell_type": "code",
      "source": [
        "import numpy as np \n",
        "from numpy.linalg import eig\n",
        "\n",
        "# Note: create matrix B using np.array \n",
        "B = np.array([[4,2,1],[6,0,7],[3,1,3]])\n",
        "print(B)\n",
        "\n",
        "#2(a)\n",
        "val, vec = np.linalg.eig(B)\n",
        "print(\"Eigen values of B: \", val)\n",
        "print(\"Eigen vectors of B: \", vec)\n",
        "\n",
        "#2(b)\n",
        "determinant_B = np.linalg.det(B)\n",
        "print(\"Determinant of B: \",determinant_B)\n",
        "\n",
        "#2(c)\n",
        "print(\"To perform matrix multiplication between A and B, the number of columns in matrix A must be equal to the number of rows in matrix B i.e, Order of matrices is not compatible.\")"
      ],
      "metadata": {
        "id": "cRZHvhuHQTuN",
        "colab": {
          "base_uri": "https://localhost:8080/"
        },
        "outputId": "d086b497-13d4-468d-e54e-0b610bb2da01"
      },
      "execution_count": 18,
      "outputs": [
        {
          "output_type": "stream",
          "name": "stdout",
          "text": [
            "[[4 2 1]\n",
            " [6 0 7]\n",
            " [3 1 3]]\n",
            "Eigen values of B:  [ 8.  1. -2.]\n",
            "Eigen vectors of B:  [[-4.87088187e-01 -5.77350269e-01  3.16227766e-01]\n",
            " [-7.52772653e-01  5.77350269e-01 -9.48683298e-01]\n",
            " [-4.42807443e-01  5.77350269e-01 -4.82250065e-17]]\n",
            "Determinant of B:  -15.999999999999998\n",
            "To perform matrix multiplication between A and B, the number of columns in matrix A must be equal to the number of rows in matrix B i.e, Order of matrices is not compatible.\n"
          ]
        }
      ]
    },
    {
      "cell_type": "markdown",
      "source": [
        "###Problem 3 \n",
        "a) Explain what a diagonal matrix, identity matrix, and square matrix is. \n",
        "\n",
        "\n",
        "b) True or false: Non-square matrices can have eigenvalues and eigenvectors. Explain your answer.\n",
        "\n",
        "\n",
        "c) True or false: If A is a square matrix and a non-zero vector v is an eigenvector of A, if there is a scalar (eigenvalue) λ such that Av = λv, A multiplying with the eigenvector changes its direction. Explain your answer.\n"
      ],
      "metadata": {
        "id": "2bxBUmtn7G_X"
      }
    },
    {
      "cell_type": "markdown",
      "source": [
        "a)\n",
        "1. *Diagonal Matrix*: A square matrix(equal number of rows and columns) where all the elements except the main diagonal elements are zero.\n",
        "\n",
        "2. *Identity Matrix*: A square matrix((equal number of rows and columns) where all diagonal elements are equal to 1 and the other elements are equal to 0.\n",
        "\n",
        "3. *Square matrix*: A matrix with equal number of rows and columns.\n",
        "\n",
        "b) False. Non-square matrices cannot have eigen values and eigen vectors as they are defined for square matrices on satisfying certain conditions.\n",
        "\n",
        "c) False. A square matrix, when multiplied with an eigenvector, the scalar (eigen value) λ scales the magnitude of the eigenvector, but the direction remains unchanged."
      ],
      "metadata": {
        "id": "8Q1h5qhlKHPA"
      }
    },
    {
      "cell_type": "markdown",
      "source": [
        "###Problem 4\n",
        "\n",
        "Explain how eigenvalues and eigenvectors relate to covariance in a few sentences (in your own words). \n"
      ],
      "metadata": {
        "id": "tBuvrDZQ8M4W"
      }
    },
    {
      "cell_type": "markdown",
      "source": [
        "Covariance gives the relationship between variables in matrix. The eigenvector of a covariance matrix tells us the direction along which the data varies the most, and the corresponding eigenvalues give the magnitude of thie variation. For instance, eigen vectors with largest eigen values have strongest correlation and can be useful for dimensionality reduction."
      ],
      "metadata": {
        "id": "8wvCdiJOKNqf"
      }
    }
  ]
}