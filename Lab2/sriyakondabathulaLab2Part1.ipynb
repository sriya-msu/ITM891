{
  "cells": [
    {
      "cell_type": "markdown",
      "metadata": {
        "id": "FbtR1da0mZne"
      },
      "source": [
        "Welcome to the jupyter notebook! To run any cell, press `Shift+Enter` or `Ctrl+Enter`.\n",
        "\n",
        "**IMPORTANT** : Please have a look at `Help->User Interface Tour` and `Help->Keyboard Shortcuts` in the toolbar above that will help you get started."
      ]
    },
    {
      "cell_type": "code",
      "execution_count": 4,
      "metadata": {
        "id": "IlhCJrG7mZnf"
      },
      "outputs": [],
      "source": [
        "# Useful starting lines\n",
        "%matplotlib inline\n",
        "import numpy as np # numpy the most important library\n",
        "import matplotlib.pyplot as plt # the plot for drawing\n",
        "%load_ext autoreload\n",
        "%autoreload 2"
      ]
    },
    {
      "cell_type": "markdown",
      "metadata": {
        "id": "Qj6vNB0vmZng"
      },
      "source": [
        "# Notebook Basics"
      ]
    },
    {
      "cell_type": "markdown",
      "metadata": {
        "id": "c-WoRevWmZng"
      },
      "source": [
        "A cell contains any type of python inputs (expression, function definitions, etc...). Running a cell is equivalent to input this block in the python interpreter. The notebook will print the output of the last executed line."
      ]
    },
    {
      "cell_type": "code",
      "execution_count": 1,
      "metadata": {
        "id": "39UMGC5xmZng",
        "outputId": "fa2f6107-26c4-41af-e3ba-4a766ecd3713",
        "colab": {
          "base_uri": "https://localhost:8080/"
        }
      },
      "outputs": [
        {
          "output_type": "execute_result",
          "data": {
            "text/plain": [
              "1"
            ]
          },
          "metadata": {},
          "execution_count": 1
        }
      ],
      "source": [
        "1"
      ]
    },
    {
      "cell_type": "code",
      "execution_count": null,
      "metadata": {
        "id": "ag0AhCPCmZnh"
      },
      "outputs": [],
      "source": [
        "x = [2,3,4]\n",
        "\n",
        "def my_function(l):\n",
        "    l.append(5)"
      ]
    },
    {
      "cell_type": "code",
      "execution_count": null,
      "metadata": {
        "id": "LBUn8IdtmZnh",
        "outputId": "2dbe0737-f2e9-4eee-e487-809a987b3a40",
        "colab": {
          "base_uri": "https://localhost:8080/"
        }
      },
      "outputs": [
        {
          "output_type": "execute_result",
          "data": {
            "text/plain": [
              "[2, 3, 4, 5]"
            ]
          },
          "metadata": {},
          "execution_count": 67
        }
      ],
      "source": [
        "my_function(x)\n",
        "\n",
        "x"
      ]
    },
    {
      "cell_type": "code",
      "execution_count": 5,
      "metadata": {
        "id": "1KRqIt1gmZnh",
        "outputId": "7ee627cf-efff-4bc0-af71-22415766ff82",
        "colab": {
          "base_uri": "https://localhost:8080/",
          "height": 296
        }
      },
      "outputs": [
        {
          "output_type": "execute_result",
          "data": {
            "text/plain": [
              "Text(0, 0.5, 'Y label')"
            ]
          },
          "metadata": {},
          "execution_count": 5
        },
        {
          "output_type": "display_data",
          "data": {
            "text/plain": [
              "<Figure size 432x288 with 1 Axes>"
            ],
            "image/png": "[encoded data removed]"
          },
          "metadata": {
            "needs_background": "light"
          }
        }
      ],
      "source": [
        "# Matplotlib is used for plotting, plots are directly embedded in the\n",
        "# notebook thanks to the '%matplolib inline' command at the beginning\n",
        "plt.hist(np.random.randn(10000), bins=40)\n",
        "plt.xlabel('X label')\n",
        "plt.ylabel('Y label')"
      ]
    },
    {
      "cell_type": "markdown",
      "metadata": {
        "id": "Ikem0MAmmZni"
      },
      "source": [
        "Numpy Basics\n",
        "============"
      ]
    },
    {
      "cell_type": "markdown",
      "metadata": {
        "id": "3gbNoiu3mZni"
      },
      "source": [
        "**IMPORTANT** : the numpy documentation is quite good. The Notebook system is really good to help you. Use the Auto-Completion with `Tab`, and use `Shift+Tab` to get the complete documentation about the current function (when the cursor is between the parenthesis of the function for instance).\n",
        "\n",
        "For example, you want to multiply two arrays. `np.mul` + `Tab` complete to the only valid function `np.multiply`. Then using `Shift+Tab` you learn `np.multiply` is actually the element-wise multiplication and is equivalent to the `*` operator."
      ]
    },
    {
      "cell_type": "code",
      "execution_count": 6,
      "metadata": {
        "id": "weVSdqfamZni",
        "outputId": "c13b252c-fbba-4de1-e0d2-579872f89150",
        "colab": {
          "base_uri": "https://localhost:8080/"
        }
      },
      "outputs": [
        {
          "output_type": "execute_result",
          "data": {
            "text/plain": [
              "<ufunc 'multiply'>"
            ]
          },
          "metadata": {},
          "execution_count": 6
        }
      ],
      "source": [
        "np.multiply"
      ]
    },
    {
      "cell_type": "markdown",
      "metadata": {
        "id": "3IJLKkSdmZni"
      },
      "source": [
        "### Creation of arrays\n",
        "\n",
        "Creating ndarrays (`np.zeros`, `np.ones`) is done by giving the shape as an iterable (List or Tuple). An integer is also accepted for one-dimensional array.\n",
        "\n",
        "`np.eye` creates an identity matrix.\n",
        "\n",
        "You can also create an array by giving iterables to it.\n",
        "\n",
        "(NB : The random functions `np.random.rand` and `np.random.randn` are exceptions though)"
      ]
    },
    {
      "cell_type": "code",
      "execution_count": null,
      "metadata": {
        "id": "erpvYeYGmZnj",
        "outputId": "f2c87783-06e8-46f1-c5f5-7b33e7d1fb97",
        "colab": {
          "base_uri": "https://localhost:8080/"
        }
      },
      "outputs": [
        {
          "output_type": "execute_result",
          "data": {
            "text/plain": [
              "array([[0., 0., 0., 0.],\n",
              "       [0., 0., 0., 0.],\n",
              "       [0., 0., 0., 0.],\n",
              "       [0., 0., 0., 0.]])"
            ]
          },
          "metadata": {},
          "execution_count": 70
        }
      ],
      "source": [
        "np.zeros([4,4])"
      ]
    },
    {
      "cell_type": "code",
      "execution_count": null,
      "metadata": {
        "id": "X6WOhLy1mZnj",
        "outputId": "2026c14c-46b2-4a70-f2d8-774727008f8e",
        "colab": {
          "base_uri": "https://localhost:8080/"
        }
      },
      "outputs": [
        {
          "output_type": "execute_result",
          "data": {
            "text/plain": [
              "array([[1., 0., 0., 0., 0., 0., 0., 0., 0., 0.],\n",
              "       [0., 1., 0., 0., 0., 0., 0., 0., 0., 0.],\n",
              "       [0., 0., 1., 0., 0., 0., 0., 0., 0., 0.],\n",
              "       [0., 0., 0., 1., 0., 0., 0., 0., 0., 0.],\n",
              "       [0., 0., 0., 0., 1., 0., 0., 0., 0., 0.],\n",
              "       [0., 0., 0., 0., 0., 1., 0., 0., 0., 0.],\n",
              "       [0., 0., 0., 0., 0., 0., 1., 0., 0., 0.],\n",
              "       [0., 0., 0., 0., 0., 0., 0., 1., 0., 0.],\n",
              "       [0., 0., 0., 0., 0., 0., 0., 0., 1., 0.],\n",
              "       [0., 0., 0., 0., 0., 0., 0., 0., 0., 1.]])"
            ]
          },
          "metadata": {},
          "execution_count": 72
        }
      ],
      "source": [
        "np.eye(10)"
      ]
    },
    {
      "cell_type": "code",
      "execution_count": 7,
      "metadata": {
        "id": "gwh4BXFPmZnj",
        "outputId": "f0bef57c-78e4-44f0-93e7-7775953b1a24",
        "colab": {
          "base_uri": "https://localhost:8080/"
        }
      },
      "outputs": [
        {
          "output_type": "stream",
          "name": "stdout",
          "text": [
            "(2, 3)\n",
            "[[30 38]\n",
            " [47 60]]\n",
            "[[30 38]\n",
            " [47 60]]\n"
          ]
        }
      ],
      "source": [
        "a = np.array([[1,3,4],[2,5,6]])\n",
        "print(a.shape)\n",
        "b = np.array([[1,2],[3,4],[5,6]])\n",
        "c = a @ b \n",
        "print(c)\n",
        "c = np.dot(a,b)\n",
        "print(c)"
      ]
    },
    {
      "cell_type": "code",
      "execution_count": null,
      "metadata": {
        "id": "MGsVKFGPmZnj",
        "outputId": "e32b5213-5dd9-4797-fd39-5d3192cef391",
        "colab": {
          "base_uri": "https://localhost:8080/"
        }
      },
      "outputs": [
        {
          "output_type": "execute_result",
          "data": {
            "text/plain": [
              "array([0, 1, 2, 3, 4])"
            ]
          },
          "metadata": {},
          "execution_count": 73
        }
      ],
      "source": [
        "np.arange(5)  # NB : np.array(range(10)) is a slightly more complicated equivalent"
      ]
    },
    {
      "cell_type": "code",
      "execution_count": 8,
      "metadata": {
        "id": "Cowz7jilmZnj",
        "outputId": "b5f3f1be-0368-4887-d11b-659a72d2a782",
        "colab": {
          "base_uri": "https://localhost:8080/"
        }
      },
      "outputs": [
        {
          "output_type": "stream",
          "name": "stdout",
          "text": [
            "(3, 4)\n"
          ]
        },
        {
          "output_type": "execute_result",
          "data": {
            "text/plain": [
              "array([[ 0.34224237,  0.18143497,  0.08738447,  1.36650317],\n",
              "       [-0.90624438,  0.42629597,  0.7386384 ,  0.07868294],\n",
              "       [ 2.01339732, -0.01907294,  0.52946512, -0.09457738]])"
            ]
          },
          "metadata": {},
          "execution_count": 8
        }
      ],
      "source": [
        "x= np.random.randn(3, 4) # normal distributed values\n",
        "print(x.shape)\n",
        "x"
      ]
    },
    {
      "cell_type": "code",
      "execution_count": 11,
      "metadata": {
        "id": "TwFXabg_mZnk",
        "outputId": "f5494bd6-c873-4760-9199-05a1c63ea1da",
        "colab": {
          "base_uri": "https://localhost:8080/"
        }
      },
      "outputs": [
        {
          "output_type": "execute_result",
          "data": {
            "text/plain": [
              "(2, 4, 2)"
            ]
          },
          "metadata": {},
          "execution_count": 11
        }
      ],
      "source": [
        "# 3-D tensor\n",
        "tensor_3 = np.ones((2, 4, 2))\n",
        "tensor_3.shape"
      ]
    },
    {
      "cell_type": "markdown",
      "metadata": {
        "id": "86gA26ppmZnk"
      },
      "source": [
        "### ndarray basics\n",
        "\n",
        "A ndarray python object is just a reference to the data location and its characteristics.\n",
        "\n",
        "All numpy operations applying on an array can be called np._function_(a) or a._function_() (i.e `np.sum(a)` or `a.sum()`)\n",
        "\n",
        "It has an attribute `shape` that returns a tuple of the different dimensions of the ndarray. It also has an attribute `dtype` that describes the type of data of the object (default type is `float64`)\n",
        "\n",
        "**WARNING** because of the object structure, unless you call `copy()` copying the reference is not copying the data."
      ]
    },
    {
      "cell_type": "code",
      "execution_count": null,
      "metadata": {
        "id": "Lu7hnXe2mZnk",
        "outputId": "6ebdf39c-584d-4003-ebdf-0e1a59a11570",
        "colab": {
          "base_uri": "https://localhost:8080/"
        }
      },
      "outputs": [
        {
          "output_type": "execute_result",
          "data": {
            "text/plain": [
              "((2, 4, 2), dtype('float64'))"
            ]
          },
          "metadata": {},
          "execution_count": 14
        }
      ],
      "source": [
        "tensor_3.shape, tensor_3.dtype"
      ]
    },
    {
      "cell_type": "code",
      "execution_count": null,
      "metadata": {
        "id": "NY9xo098mZnl",
        "outputId": "d02b4625-4037-4de0-f531-570065d663c9",
        "colab": {
          "base_uri": "https://localhost:8080/"
        }
      },
      "outputs": [
        {
          "output_type": "execute_result",
          "data": {
            "text/plain": [
              "(dtype('int64'), dtype('float64'))"
            ]
          },
          "metadata": {},
          "execution_count": 77
        }
      ],
      "source": [
        "a = np.array([[1.0, 2.0], [5.0, 4.0]])\n",
        "b = np.array([[4, 3], [2, 1]])\n",
        "(b.dtype, a.dtype) # each array has a data type (casting rules apply for int -> float)"
      ]
    },
    {
      "cell_type": "code",
      "execution_count": null,
      "metadata": {
        "id": "vS3eaz0hmZnl",
        "outputId": "3a10eace-60f6-4b21-bd96-638901515373",
        "colab": {
          "base_uri": "https://localhost:8080/"
        }
      },
      "outputs": [
        {
          "output_type": "execute_result",
          "data": {
            "text/plain": [
              "array(['Mickey', 'Mouse'], dtype='<U6')"
            ]
          },
          "metadata": {},
          "execution_count": 16
        }
      ],
      "source": [
        "np.array([\"Mickey\", \"Mouse\"]) # can hold more than just numbers"
      ]
    },
    {
      "cell_type": "code",
      "execution_count": null,
      "metadata": {
        "id": "FnlLNnW2mZnl",
        "outputId": "2c42658d-c073-46ea-ad84-a2c6d474669d",
        "colab": {
          "base_uri": "https://localhost:8080/"
        }
      },
      "outputs": [
        {
          "output_type": "execute_result",
          "data": {
            "text/plain": [
              "array([[3., 2.],\n",
              "       [5., 4.]])"
            ]
          },
          "metadata": {},
          "execution_count": 17
        }
      ],
      "source": [
        "a = np.array([[1.0, 2.0], [5.0, 4.0]])\n",
        "b = a  # Copying the reference only\n",
        "b[0,0] = 3\n",
        "a"
      ]
    },
    {
      "cell_type": "code",
      "execution_count": null,
      "metadata": {
        "id": "UCXTgswTmZnl",
        "outputId": "309319d4-da3a-49f7-ed0e-0f4ba1b45be6",
        "colab": {
          "base_uri": "https://localhost:8080/"
        }
      },
      "outputs": [
        {
          "output_type": "execute_result",
          "data": {
            "text/plain": [
              "array([[1., 2.],\n",
              "       [5., 4.]])"
            ]
          },
          "metadata": {},
          "execution_count": 18
        }
      ],
      "source": [
        "a = np.array([[1.0, 2.0], [5.0, 4.0]])\n",
        "b = a.copy()  # Deep-copy of the data\n",
        "b[0,0] = 3\n",
        "a # Jan 9"
      ]
    },
    {
      "cell_type": "markdown",
      "metadata": {
        "id": "zWq1iY1nmZnl"
      },
      "source": [
        "#### Basic operators are working element-wise (+, -, *, /)\n",
        "\n",
        "When trying to apply operators for arrays with different sizes, they are very specific rules that you might want to understand in the future : http://docs.scipy.org/doc/numpy/user/basics.broadcasting.html"
      ]
    },
    {
      "cell_type": "code",
      "execution_count": null,
      "metadata": {
        "id": "B9zSCFC2mZnm",
        "outputId": "e4286dc0-a889-4d15-8b2c-94c33fc480bb",
        "colab": {
          "base_uri": "https://localhost:8080/"
        }
      },
      "outputs": [
        {
          "output_type": "execute_result",
          "data": {
            "text/plain": [
              "array([[ 1.07212983,  0.97808728, -2.05537619,  1.52730011],\n",
              "       [-0.13449932, -0.13285887, -1.2879169 , -0.91037192]])"
            ]
          },
          "metadata": {},
          "execution_count": 19
        }
      ],
      "source": [
        "np.ones((2, 4)) * np.random.randn(2, 4)"
      ]
    },
    {
      "cell_type": "code",
      "execution_count": null,
      "metadata": {
        "id": "yOk9fiHqmZnm",
        "outputId": "30a34e09-b6d5-4827-9f48-3bf89894f036",
        "colab": {
          "base_uri": "https://localhost:8080/"
        }
      },
      "outputs": [
        {
          "output_type": "execute_result",
          "data": {
            "text/plain": [
              "array([[ 0., -1., -1.],\n",
              "       [-1.,  0., -1.],\n",
              "       [-1., -1.,  0.]])"
            ]
          },
          "metadata": {},
          "execution_count": 20
        }
      ],
      "source": [
        "np.eye(3) - np.ones((3,3))"
      ]
    },
    {
      "cell_type": "code",
      "execution_count": null,
      "metadata": {
        "id": "jvZV8n11mZnm",
        "outputId": "ba2e5914-993d-4eb6-d011-743a1d83e703",
        "colab": {
          "base_uri": "https://localhost:8080/"
        }
      },
      "outputs": [
        {
          "output_type": "stream",
          "name": "stdout",
          "text": [
            "[[1. 2.]\n",
            " [5. 4.]]\n",
            "(2, 2)\n",
            "2\n"
          ]
        }
      ],
      "source": [
        "print(a)\n",
        "print(a.shape)  # Get shape\n",
        "print(a.shape[0])  # Get size of first dimension"
      ]
    },
    {
      "cell_type": "markdown",
      "metadata": {
        "id": "ej0gTL7WmZnm"
      },
      "source": [
        "#### Accessing elements and slicing\n",
        "\n",
        "For people uncomfortable with the slicing of arrays, please have a look at the 'Indexing and Slicing' section of http://www.python-course.eu/numpy.php"
      ]
    },
    {
      "cell_type": "code",
      "execution_count": null,
      "metadata": {
        "id": "3cimpcwHmZnm",
        "outputId": "61eccc18-cf92-48ce-b235-0366de20079f",
        "colab": {
          "base_uri": "https://localhost:8080/"
        }
      },
      "outputs": [
        {
          "output_type": "stream",
          "name": "stdout",
          "text": [
            "[1. 2.]\n",
            "[2. 4.]\n",
            "2.0\n"
          ]
        }
      ],
      "source": [
        "print(a[0])  # Get first line (slice for the first dimension)\n",
        "print(a[:, 1])  # Get second column (slice for the second dimension)\n",
        "print(a[0, 1])  # Get first line second column element"
      ]
    },
    {
      "cell_type": "markdown",
      "metadata": {
        "id": "_v9ksZrBmZnn"
      },
      "source": [
        "#### Changing the shape of arrays\n",
        "\n",
        "`ravel` creates a flattened view of an array (1-D representation) whereas `flatten` creates flattened copy of the array.\n",
        "\n",
        "`reshape` allows in-place modification of the shape of the data. `transpose` shuffles the dimensions.\n",
        "\n",
        "`np.newaxis` allows the creation of empty dimensions."
      ]
    },
    {
      "cell_type": "code",
      "execution_count": null,
      "metadata": {
        "collapsed": true,
        "id": "hv-6Q9DLmZnn"
      },
      "outputs": [],
      "source": [
        "a = np.array([[1.0, 2.0], [5.0, 4.0]])\n",
        "b = np.array([[4, 3], [2, 1]])\n",
        "v = np.array([0.5, 2.0])"
      ]
    },
    {
      "cell_type": "code",
      "execution_count": null,
      "metadata": {
        "id": "MQsExhYNmZnn",
        "outputId": "5d01b9e2-6ba7-4496-bae8-a21ed4cdedc1",
        "colab": {
          "base_uri": "https://localhost:8080/"
        }
      },
      "outputs": [
        {
          "output_type": "stream",
          "name": "stdout",
          "text": [
            "[[1. 2.]\n",
            " [5. 4.]]\n",
            "[[1. 5.]\n",
            " [2. 4.]]\n",
            "[1. 2. 5. 4.]\n"
          ]
        }
      ],
      "source": [
        "print(a)\n",
        "print(a.T)  # Equivalent : a.tranpose(), np.transpose(a)\n",
        "print(a.ravel())"
      ]
    },
    {
      "cell_type": "code",
      "execution_count": 15,
      "metadata": {
        "id": "fvL09rkOmZnn",
        "outputId": "bc66b9e8-1ab9-48a5-ecc9-60b377fa5f77",
        "colab": {
          "base_uri": "https://localhost:8080/"
        }
      },
      "outputs": [
        {
          "output_type": "stream",
          "name": "stdout",
          "text": [
            "(4, 5)\n",
            "(1, 4, 5)\n",
            "(5, 4)\n",
            "(10, 2)\n",
            "[[-1.4443311   0.47181595 -0.01686794  0.53758335 -2.09189083]\n",
            " [-0.86885583 -0.6015861  -0.95108347 -1.59836024  0.37259655]\n",
            " [-1.29616894 -0.18093043 -1.64276954  0.23707412  0.65054804]\n",
            " [ 0.68053503 -0.03968308  1.18557052 -2.28879474 -0.4604008 ]]\n"
          ]
        }
      ],
      "source": [
        "c = np.random.randn(4,5)\n",
        "print(c.shape)\n",
        "print(c[np.newaxis].shape)  # Adding a dimension\n",
        "print(c.T.shape)  \n",
        "print(c.reshape([10,2]).shape)\n",
        "print(c)\n",
        "# print(c.reshape([10,2]))"
      ]
    },
    {
      "cell_type": "code",
      "execution_count": null,
      "metadata": {
        "id": "rGBeiX6NmZnn",
        "outputId": "e43cc4f9-3f17-492d-e787-0da34fbe9e22",
        "colab": {
          "base_uri": "https://localhost:8080/"
        }
      },
      "outputs": [
        {
          "output_type": "execute_result",
          "data": {
            "text/plain": [
              "array([[1.],\n",
              "       [2.],\n",
              "       [5.],\n",
              "       [4.]])"
            ]
          },
          "metadata": {},
          "execution_count": 26
        }
      ],
      "source": [
        "a.reshape((-1, 1)) # a[-1] means 'whatever needs to go there'"
      ]
    },
    {
      "cell_type": "markdown",
      "metadata": {
        "id": "bmCrCjt-mZnn"
      },
      "source": [
        "#### Reduction operations\n",
        "\n",
        "Reduction operations (`np.sum`, `np.max`, `np.min`, `np.std`) work on the flattened ndarray by default. You can specify the reduction axis as an argument"
      ]
    },
    {
      "cell_type": "code",
      "execution_count": 16,
      "metadata": {
        "id": "8ZAaVSBOmZno",
        "outputId": "d843427e-52c1-451b-db9c-e1b228901ab0",
        "colab": {
          "base_uri": "https://localhost:8080/"
        }
      },
      "outputs": [
        {
          "output_type": "stream",
          "name": "stdout",
          "text": [
            "[[1 3 4]\n",
            " [2 5 6]]\n",
            "[1.24721913 1.69967317]\n"
          ]
        },
        {
          "output_type": "execute_result",
          "data": {
            "text/plain": [
              "(21, array([ 3,  8, 10]), array([ 8, 13]))"
            ]
          },
          "metadata": {},
          "execution_count": 16
        }
      ],
      "source": [
        "print(a)\n",
        "print(np.std(a, axis=1))\n",
        "np.sum(a), np.sum(a, axis=0), np.sum(a, axis=1) # reduce-operations reduce the whole array if no axis is specified"
      ]
    },
    {
      "cell_type": "markdown",
      "metadata": {
        "collapsed": false,
        "id": "5__G3iDHmZno"
      },
      "source": [
        "#### Linear-algebra operations"
      ]
    },
    {
      "cell_type": "code",
      "execution_count": null,
      "metadata": {
        "id": "BUPOwvSLmZno",
        "outputId": "0b8d8ea9-1907-4a4f-a343-c30c3a97dd5c",
        "colab": {
          "base_uri": "https://localhost:8080/"
        }
      },
      "outputs": [
        {
          "output_type": "execute_result",
          "data": {
            "text/plain": [
              "array([[ 8.,  5.],\n",
              "       [28., 19.]])"
            ]
          },
          "metadata": {},
          "execution_count": 28
        }
      ],
      "source": [
        "np.dot(a, b) # matrix multiplication"
      ]
    },
    {
      "cell_type": "code",
      "execution_count": null,
      "metadata": {
        "id": "jno62Q29mZno",
        "outputId": "fbaae804-a312-481e-8736-b12e217ec2d4",
        "colab": {
          "base_uri": "https://localhost:8080/"
        }
      },
      "outputs": [
        {
          "output_type": "execute_result",
          "data": {
            "text/plain": [
              "True"
            ]
          },
          "metadata": {},
          "execution_count": 29
        }
      ],
      "source": [
        "# Other ways of writing matrix multiplication, the '@' operator for matrix multiplication\n",
        "# was introduced in Python 3.5\n",
        "np.allclose(a.dot(b), a @ b)"
      ]
    },
    {
      "cell_type": "code",
      "execution_count": null,
      "metadata": {
        "id": "g9_Cp0rLmZno",
        "outputId": "0c06221a-f0b4-4088-81a2-f9c8e7ddbfe6",
        "colab": {
          "base_uri": "https://localhost:8080/"
        }
      },
      "outputs": [
        {
          "output_type": "execute_result",
          "data": {
            "text/plain": [
              "(array([-1.,  6.]), array([[-0.70710678, -0.37139068],\n",
              "        [ 0.70710678, -0.92847669]]))"
            ]
          },
          "metadata": {},
          "execution_count": 30
        }
      ],
      "source": [
        "# For other linear algebra operations, use the np.linalg module\n",
        "np.linalg.eig(a)  # Eigen-decomposition"
      ]
    },
    {
      "cell_type": "code",
      "execution_count": null,
      "metadata": {
        "id": "S-6OmotkmZno",
        "outputId": "3574c0f7-b086-453a-c811-d8fe80eaca94",
        "colab": {
          "base_uri": "https://localhost:8080/"
        }
      },
      "outputs": [
        {
          "output_type": "stream",
          "name": "stdout",
          "text": [
            "[[-0.66666667  0.33333333]\n",
            " [ 0.83333333 -0.16666667]]\n"
          ]
        },
        {
          "output_type": "execute_result",
          "data": {
            "text/plain": [
              "True"
            ]
          },
          "metadata": {},
          "execution_count": 31
        }
      ],
      "source": [
        "print(np.linalg.inv(a))  # Inverse\n",
        "np.allclose(np.linalg.inv(a) @ a, np.identity(a.shape[1]))  # a^-1 * a = Id"
      ]
    },
    {
      "cell_type": "code",
      "execution_count": null,
      "metadata": {
        "id": "QodLdJ6pmZno",
        "outputId": "0a6ad520-f596-44f2-db2e-f1064b88c674",
        "colab": {
          "base_uri": "https://localhost:8080/"
        }
      },
      "outputs": [
        {
          "output_type": "execute_result",
          "data": {
            "text/plain": [
              "array([0.33333333, 0.08333333])"
            ]
          },
          "metadata": {},
          "execution_count": 32
        }
      ],
      "source": [
        "np.linalg.solve(a, v) # solves ax = v"
      ]
    },
    {
      "cell_type": "markdown",
      "metadata": {
        "id": "Sz3WTm0dmZnp"
      },
      "source": [
        "#### Grouping operations\n",
        "\n",
        "Grouping operations (`np.stack`, `np.hstack`, `np.vstack`, `np.concatenate`) take an iterable of ndarrays and not ndarrays as separate arguments : np.concatenate([a,b]) and not np.concatenate(a,b)."
      ]
    },
    {
      "cell_type": "code",
      "execution_count": null,
      "metadata": {
        "id": "gRw9Ld3TmZnp",
        "outputId": "4d001de2-54e0-4e87-d969-fcdf857af097",
        "colab": {
          "base_uri": "https://localhost:8080/"
        }
      },
      "outputs": [
        {
          "output_type": "execute_result",
          "data": {
            "text/plain": [
              "array([[1., 2., 4., 3.],\n",
              "       [5., 4., 2., 1.]])"
            ]
          },
          "metadata": {},
          "execution_count": 33
        }
      ],
      "source": [
        "np.hstack([a, b])"
      ]
    },
    {
      "cell_type": "code",
      "execution_count": null,
      "metadata": {
        "scrolled": true,
        "id": "1syo4GnAmZnp",
        "outputId": "ec55b1c0-82ba-4cc1-ab00-f2a9c19c9a02",
        "colab": {
          "base_uri": "https://localhost:8080/"
        }
      },
      "outputs": [
        {
          "output_type": "execute_result",
          "data": {
            "text/plain": [
              "array([[1., 2.],\n",
              "       [5., 4.],\n",
              "       [4., 3.],\n",
              "       [2., 1.]])"
            ]
          },
          "metadata": {},
          "execution_count": 35
        }
      ],
      "source": [
        "np.vstack([a, b])"
      ]
    },
    {
      "cell_type": "code",
      "execution_count": null,
      "metadata": {
        "id": "Lcsa80IPmZnp",
        "outputId": "c2a8ece9-cf27-4075-ae61-b1c8517fe09d",
        "colab": {
          "base_uri": "https://localhost:8080/"
        }
      },
      "outputs": [
        {
          "output_type": "execute_result",
          "data": {
            "text/plain": [
              "array([[1.5, 4. ],\n",
              "       [5.5, 6. ],\n",
              "       [4.5, 5. ],\n",
              "       [2.5, 3. ]])"
            ]
          },
          "metadata": {},
          "execution_count": 36
        }
      ],
      "source": [
        "np.vstack([a, b]) + v # broadcasting"
      ]
    },
    {
      "cell_type": "code",
      "execution_count": null,
      "metadata": {
        "id": "CSfdNnCUmZnp",
        "outputId": "415bbea5-71de-40f8-b207-6cce0b8ecf56",
        "colab": {
          "base_uri": "https://localhost:8080/",
          "height": 167
        }
      },
      "outputs": [
        {
          "output_type": "error",
          "ename": "ValueError",
          "evalue": "ignored",
          "traceback": [
            "\u001b[0;31m---------------------------------------------------------------------------\u001b[0m",
            "\u001b[0;31mValueError\u001b[0m                                Traceback (most recent call last)",
            "\u001b[0;32m<ipython-input-37-5c0deec6e066>\u001b[0m in \u001b[0;36m<module>\u001b[0;34m\u001b[0m\n\u001b[0;32m----> 1\u001b[0;31m \u001b[0mnp\u001b[0m\u001b[0;34m.\u001b[0m\u001b[0mhstack\u001b[0m\u001b[0;34m(\u001b[0m\u001b[0;34m[\u001b[0m\u001b[0ma\u001b[0m\u001b[0;34m,\u001b[0m \u001b[0mb\u001b[0m\u001b[0;34m]\u001b[0m\u001b[0;34m)\u001b[0m \u001b[0;34m+\u001b[0m \u001b[0mv\u001b[0m \u001b[0;31m# does not work\u001b[0m\u001b[0;34m\u001b[0m\u001b[0;34m\u001b[0m\u001b[0m\n\u001b[0m",
            "\u001b[0;31mValueError\u001b[0m: operands could not be broadcast together with shapes (2,4) (2,) "
          ]
        }
      ],
      "source": [
        "np.hstack([a, b]) + v # does not work"
      ]
    },
    {
      "cell_type": "code",
      "execution_count": null,
      "metadata": {
        "id": "L_7s91ZymZnp",
        "outputId": "a1955de8-1f09-4331-e132-198d159de487",
        "colab": {
          "base_uri": "https://localhost:8080/",
          "height": 167
        }
      },
      "outputs": [
        {
          "output_type": "error",
          "ename": "ValueError",
          "evalue": "ignored",
          "traceback": [
            "\u001b[0;31m---------------------------------------------------------------------------\u001b[0m",
            "\u001b[0;31mValueError\u001b[0m                                Traceback (most recent call last)",
            "\u001b[0;32m<ipython-input-38-ea0dadd42dc1>\u001b[0m in \u001b[0;36m<module>\u001b[0;34m\u001b[0m\n\u001b[0;32m----> 1\u001b[0;31m \u001b[0mnp\u001b[0m\u001b[0;34m.\u001b[0m\u001b[0mhstack\u001b[0m\u001b[0;34m(\u001b[0m\u001b[0;34m[\u001b[0m\u001b[0ma\u001b[0m\u001b[0;34m,\u001b[0m \u001b[0mb\u001b[0m\u001b[0;34m]\u001b[0m\u001b[0;34m)\u001b[0m \u001b[0;34m+\u001b[0m \u001b[0mv\u001b[0m\u001b[0;34m.\u001b[0m\u001b[0mT\u001b[0m \u001b[0;31m# transposing a 1-D array achieves nothing\u001b[0m\u001b[0;34m\u001b[0m\u001b[0;34m\u001b[0m\u001b[0m\n\u001b[0m",
            "\u001b[0;31mValueError\u001b[0m: operands could not be broadcast together with shapes (2,4) (2,) "
          ]
        }
      ],
      "source": [
        "np.hstack([a, b]) + v.T # transposing a 1-D array achieves nothing"
      ]
    },
    {
      "cell_type": "code",
      "execution_count": null,
      "metadata": {
        "scrolled": true,
        "id": "gT6r4keMmZnp",
        "outputId": "d8fd6ff0-a717-477d-d61e-0799617756d8",
        "colab": {
          "base_uri": "https://localhost:8080/"
        }
      },
      "outputs": [
        {
          "output_type": "execute_result",
          "data": {
            "text/plain": [
              "array([[1.5, 2.5, 4.5, 3.5],\n",
              "       [7. , 6. , 4. , 3. ]])"
            ]
          },
          "metadata": {},
          "execution_count": 39
        }
      ],
      "source": [
        "np.hstack([a, b]) + v.reshape((-1, 1)) # reshaping to convert v from a (2,) vector to a (2,1) matrix"
      ]
    },
    {
      "cell_type": "code",
      "execution_count": null,
      "metadata": {
        "id": "lXjuZVPEmZnq",
        "outputId": "84bbf778-f148-4349-9472-bfd5e3cc8c1d",
        "colab": {
          "base_uri": "https://localhost:8080/"
        }
      },
      "outputs": [
        {
          "output_type": "execute_result",
          "data": {
            "text/plain": [
              "array([[1.5, 2.5, 4.5, 3.5],\n",
              "       [7. , 6. , 4. , 3. ]])"
            ]
          },
          "metadata": {},
          "execution_count": 40
        }
      ],
      "source": [
        "np.hstack([a, b]) + v[:, np.newaxis] # equivalently, we can add an axis"
      ]
    },
    {
      "cell_type": "markdown",
      "metadata": {
        "id": "dFfCRYjEmZnq"
      },
      "source": [
        "## Working on subset of the elements\n",
        "\n",
        "We have two ways in order to apply operations on subparts of arrays (besides slicing).\n",
        "\n",
        "#### Slicing reminders"
      ]
    },
    {
      "cell_type": "code",
      "execution_count": null,
      "metadata": {
        "id": "8r1PVD21mZnq"
      },
      "outputs": [],
      "source": [
        "r = np.random.randint(0, 9, size=(3, 4))"
      ]
    },
    {
      "cell_type": "code",
      "execution_count": null,
      "metadata": {
        "id": "eu_flpwvmZnq",
        "outputId": "79389e4f-5912-4748-b0c4-7bb139815ae3",
        "colab": {
          "base_uri": "https://localhost:8080/"
        }
      },
      "outputs": [
        {
          "output_type": "execute_result",
          "data": {
            "text/plain": [
              "array([[7, 6, 0, 3],\n",
              "       [5, 0, 4, 4],\n",
              "       [3, 1, 1, 6]])"
            ]
          },
          "metadata": {},
          "execution_count": 42
        }
      ],
      "source": [
        "r"
      ]
    },
    {
      "cell_type": "code",
      "execution_count": null,
      "metadata": {
        "id": "6ypvy7cKmZnq",
        "outputId": "19ee3918-0d3f-4b50-fa72-bb04dbec1702",
        "colab": {
          "base_uri": "https://localhost:8080/"
        }
      },
      "outputs": [
        {
          "output_type": "execute_result",
          "data": {
            "text/plain": [
              "(array([7, 6, 0, 3]), array([5, 0, 4, 4]))"
            ]
          },
          "metadata": {},
          "execution_count": 43
        }
      ],
      "source": [
        "r[0], r[1]"
      ]
    },
    {
      "cell_type": "code",
      "execution_count": null,
      "metadata": {
        "id": "9jMNo3NQmZnq",
        "outputId": "29c610b9-7571-45db-e5a5-2267aad1ecfe",
        "colab": {
          "base_uri": "https://localhost:8080/"
        }
      },
      "outputs": [
        {
          "output_type": "execute_result",
          "data": {
            "text/plain": [
              "array([[7, 6, 0, 3],\n",
              "       [5, 0, 4, 4]])"
            ]
          },
          "metadata": {},
          "execution_count": 44
        }
      ],
      "source": [
        "r[0:2]"
      ]
    },
    {
      "cell_type": "code",
      "execution_count": null,
      "metadata": {
        "id": "kDbULOIZmZnq",
        "outputId": "f71a9e40-480e-4c72-d065-d204a2fcbb22",
        "colab": {
          "base_uri": "https://localhost:8080/"
        }
      },
      "outputs": [
        {
          "output_type": "execute_result",
          "data": {
            "text/plain": [
              "4"
            ]
          },
          "metadata": {},
          "execution_count": 45
        }
      ],
      "source": [
        "r[1][2] # regular python"
      ]
    },
    {
      "cell_type": "code",
      "execution_count": null,
      "metadata": {
        "id": "CI6i0dQNmZnq",
        "outputId": "9bd630e1-fe84-4343-bbfe-0ce0371e0f7e",
        "colab": {
          "base_uri": "https://localhost:8080/"
        }
      },
      "outputs": [
        {
          "output_type": "execute_result",
          "data": {
            "text/plain": [
              "4"
            ]
          },
          "metadata": {},
          "execution_count": 46
        }
      ],
      "source": [
        "r[1, 2] # numpy"
      ]
    },
    {
      "cell_type": "code",
      "execution_count": null,
      "metadata": {
        "id": "V8kF5a18mZnr",
        "outputId": "d6ab2f48-7d7e-4817-b189-cdea835d019f",
        "colab": {
          "base_uri": "https://localhost:8080/"
        }
      },
      "outputs": [
        {
          "output_type": "execute_result",
          "data": {
            "text/plain": [
              "array([[6, 0],\n",
              "       [0, 4],\n",
              "       [1, 1]])"
            ]
          },
          "metadata": {},
          "execution_count": 47
        }
      ],
      "source": [
        "r[:, 1:3]"
      ]
    },
    {
      "cell_type": "markdown",
      "metadata": {
        "id": "bCu78trCmZnr"
      },
      "source": [
        "#### Binary masks\n",
        "\n",
        "Using logical operations on arrays give a binary mask. Using a binary mask as indexing acts as a filter and outputs just the very elements where the value is True. This gives a memoryview of the array that can get modified."
      ]
    },
    {
      "cell_type": "code",
      "execution_count": null,
      "metadata": {
        "id": "S8-ahznTmZnr",
        "outputId": "bbf5c2ec-3b6e-4902-e18c-12cf48cdf6e7",
        "colab": {
          "base_uri": "https://localhost:8080/"
        }
      },
      "outputs": [
        {
          "output_type": "execute_result",
          "data": {
            "text/plain": [
              "array([[ True,  True, False, False],\n",
              "       [False, False, False, False],\n",
              "       [False, False, False,  True]])"
            ]
          },
          "metadata": {},
          "execution_count": 48
        }
      ],
      "source": [
        "r > 5  # Binary element-wise result"
      ]
    },
    {
      "cell_type": "code",
      "execution_count": null,
      "metadata": {
        "id": "mu86vaLumZnr",
        "outputId": "5c3ae664-bafc-42d9-c719-f481ff7e8576",
        "colab": {
          "base_uri": "https://localhost:8080/"
        }
      },
      "outputs": [
        {
          "output_type": "execute_result",
          "data": {
            "text/plain": [
              "array([7, 6, 6])"
            ]
          },
          "metadata": {},
          "execution_count": 49
        }
      ],
      "source": [
        "r[r > 5]  # Use the binary mask as filter"
      ]
    },
    {
      "cell_type": "code",
      "execution_count": null,
      "metadata": {
        "collapsed": true,
        "id": "D6AFLInBmZnr"
      },
      "outputs": [],
      "source": [
        "r[r > 5] = 999  # Modify the corresponding values with a constant"
      ]
    },
    {
      "cell_type": "code",
      "execution_count": null,
      "metadata": {
        "id": "TQCWq6EpmZnr",
        "outputId": "0f6af9af-b3f8-44a0-faf9-cbb3258770de",
        "colab": {
          "base_uri": "https://localhost:8080/"
        }
      },
      "outputs": [
        {
          "output_type": "execute_result",
          "data": {
            "text/plain": [
              "array([[999, 999,   0,   3],\n",
              "       [  5,   0,   4,   4],\n",
              "       [  3,   1,   1, 999]])"
            ]
          },
          "metadata": {},
          "execution_count": 51
        }
      ],
      "source": [
        "r"
      ]
    },
    {
      "cell_type": "markdown",
      "metadata": {
        "collapsed": true,
        "id": "f3mJbxR_mZnr"
      },
      "source": [
        "#### Working with indices\n",
        "\n",
        "The second way to work on subpart of arrays are through indices. Usually you'd use one array per dimension with matching indices.\n",
        "\n",
        "**WARNING** : indices are usually slower than binary masks because it is harder to be parallelized by the underlying BLAS library."
      ]
    },
    {
      "cell_type": "code",
      "execution_count": null,
      "metadata": {
        "id": "rYnpe-C3mZnr",
        "outputId": "18c57c79-c33f-4d10-c16a-6c62c0be0442",
        "colab": {
          "base_uri": "https://localhost:8080/"
        }
      },
      "outputs": [
        {
          "output_type": "execute_result",
          "data": {
            "text/plain": [
              "(array([0, 0, 2]), array([0, 1, 3]))"
            ]
          },
          "metadata": {},
          "execution_count": 52
        }
      ],
      "source": [
        "# Get the indices where the condition is true, gives a tuple whose length\n",
        "# is the number of dimensions of the input array\n",
        "np.where(r == 999)"
      ]
    },
    {
      "cell_type": "code",
      "execution_count": null,
      "metadata": {
        "id": "sMqqTICNmZns",
        "outputId": "c224e27d-a820-4fbe-ecc5-67634895c0b7",
        "colab": {
          "base_uri": "https://localhost:8080/"
        }
      },
      "outputs": [
        {
          "output_type": "stream",
          "name": "stdout",
          "text": [
            "(array([0, 1, 2, 3, 4]),)\n"
          ]
        },
        {
          "output_type": "execute_result",
          "data": {
            "text/plain": [
              "array([0, 1, 2, 3, 4])"
            ]
          },
          "metadata": {},
          "execution_count": 53
        }
      ],
      "source": [
        "print(np.where(np.arange(10) < 5))  # Is a 1-tuple\n",
        "np.where(np.arange(10) < 5)[0]  # Accessing the first element gives the indices array"
      ]
    },
    {
      "cell_type": "code",
      "execution_count": null,
      "metadata": {
        "id": "XvW_0IlgmZns",
        "outputId": "b1456bd9-cf1d-4817-fb2d-044686f238b3",
        "colab": {
          "base_uri": "https://localhost:8080/"
        }
      },
      "outputs": [
        {
          "output_type": "execute_result",
          "data": {
            "text/plain": [
              "array([[ -10,  -10, 1000, 1003],\n",
              "       [1005, 1000, 1004, 1004],\n",
              "       [1003, 1001, 1001,  -10]])"
            ]
          },
          "metadata": {},
          "execution_count": 54
        }
      ],
      "source": [
        "np.where(r == 999, -10, r+1000)  # Ternary condition, if True take element from first array, otherwise from second"
      ]
    },
    {
      "cell_type": "code",
      "execution_count": null,
      "metadata": {
        "id": "VBrvcBLwmZns",
        "outputId": "66faf811-e155-465d-90b4-22492b3b99fd",
        "colab": {
          "base_uri": "https://localhost:8080/"
        }
      },
      "outputs": [
        {
          "output_type": "execute_result",
          "data": {
            "text/plain": [
              "array([4, 1])"
            ]
          },
          "metadata": {},
          "execution_count": 55
        }
      ],
      "source": [
        "r[(np.array([1,2]), np.array([2,2]))]  # Gets the view corresponding to the indices. NB : iterable of arrays as indexing"
      ]
    },
    {
      "cell_type": "markdown",
      "metadata": {
        "id": "hHN3DZFomZns"
      },
      "source": [
        "# Working with arrays, examples\n",
        "\n",
        "Thanks to all these tools, you should be able to avoid writing almost any for-loops which are extremely costly in Python (even more than in Matlab, because good JIT engines are yet to come). In case you **really** need for-loops for array computation (usually not needed but it happens) have a look at http://numba.pydata.org/ (_For advanced users_)\n",
        "\n",
        "#### Counting the number of positive elements that satisfy a condition"
      ]
    },
    {
      "cell_type": "code",
      "execution_count": null,
      "metadata": {
        "id": "4EYAxvbBmZns"
      },
      "outputs": [],
      "source": [
        "numbers = np.random.randn(1000, 1000)"
      ]
    },
    {
      "cell_type": "code",
      "execution_count": null,
      "metadata": {
        "id": "hmIyTG9ImZns",
        "outputId": "ac4efba2-8c8a-4dd6-91c0-65060c0b0e95",
        "colab": {
          "base_uri": "https://localhost:8080/"
        }
      },
      "outputs": [
        {
          "output_type": "stream",
          "name": "stdout",
          "text": [
            "232 ms ± 8.71 ms per loop (mean ± std. dev. of 7 runs, 1 loop each)\n"
          ]
        }
      ],
      "source": [
        "%%timeit  # Naive version\n",
        "my_sum = 0\n",
        "for n in numbers.ravel():\n",
        "    if n>0:\n",
        "        my_sum += 1"
      ]
    },
    {
      "cell_type": "code",
      "execution_count": null,
      "metadata": {
        "id": "XCCxJN2amZns",
        "outputId": "bf174902-7376-4493-b4ed-6eef988ce51f",
        "colab": {
          "base_uri": "https://localhost:8080/"
        }
      },
      "outputs": [
        {
          "output_type": "stream",
          "name": "stdout",
          "text": [
            "1.44 ms ± 61.5 µs per loop (mean ± std. dev. of 7 runs, 1000 loops each)\n"
          ]
        }
      ],
      "source": [
        "%timeit np.sum(numbers > 0)"
      ]
    },
    {
      "cell_type": "markdown",
      "metadata": {
        "id": "Oy6Qi2MBmZns"
      },
      "source": [
        "#### Compute polynomial for a lot of values"
      ]
    },
    {
      "cell_type": "code",
      "execution_count": null,
      "metadata": {
        "collapsed": true,
        "id": "7FV4rDqTmZns"
      },
      "outputs": [],
      "source": [
        "X = np.random.randn(10000)"
      ]
    },
    {
      "cell_type": "code",
      "execution_count": null,
      "metadata": {
        "id": "JTG6E1tAmZnt",
        "outputId": "13e7a330-a5d1-4103-b7c3-809541775cda",
        "colab": {
          "base_uri": "https://localhost:8080/"
        }
      },
      "outputs": [
        {
          "output_type": "stream",
          "name": "stdout",
          "text": [
            "13.2 ms ± 1.24 ms per loop (mean ± std. dev. of 7 runs, 100 loops each)\n"
          ]
        }
      ],
      "source": [
        "%%timeit  # Naive version\n",
        "my_result = np.zeros(len(X))\n",
        "for i, x in enumerate(X.ravel()):\n",
        "    my_result[i] = 1 + x + x**2 + x**3 + x**4"
      ]
    },
    {
      "cell_type": "code",
      "execution_count": null,
      "metadata": {
        "id": "mrgiOn71mZnt",
        "outputId": "78e9e6b8-e8bd-46f6-9590-2e25522c119a",
        "colab": {
          "base_uri": "https://localhost:8080/"
        }
      },
      "outputs": [
        {
          "output_type": "stream",
          "name": "stdout",
          "text": [
            "1.82 ms ± 84.7 µs per loop (mean ± std. dev. of 7 runs, 1000 loops each)\n"
          ]
        }
      ],
      "source": [
        "%timeit 1 + X + X**2 + X**3 + X**4"
      ]
    },
    {
      "cell_type": "markdown",
      "metadata": {
        "id": "kgK1RIKDmZnt"
      },
      "source": [
        "## SciPy\n",
        "\n",
        "SciPy is a collection of libraries more specialized than Numpy. It is the equivalent of toolboxes in Matlab.\n",
        "\n",
        "Have a look at their collection: http://docs.scipy.org/doc/scipy/reference/\n",
        "\n",
        "Many traditionnal functions are coded there."
      ]
    },
    {
      "cell_type": "code",
      "execution_count": null,
      "metadata": {
        "collapsed": true,
        "id": "g7K1Ns94mZnt"
      },
      "outputs": [],
      "source": [
        "X = np.random.randn(1000)"
      ]
    },
    {
      "cell_type": "code",
      "execution_count": null,
      "metadata": {
        "id": "BOiuns0YmZnt",
        "outputId": "d8e9c21d-7317-4c6a-8029-eec1a0136ae5",
        "colab": {
          "base_uri": "https://localhost:8080/",
          "height": 283
        }
      },
      "outputs": [
        {
          "output_type": "execute_result",
          "data": {
            "text/plain": [
              "[<matplotlib.lines.Line2D at 0x7fae6d6893a0>]"
            ]
          },
          "metadata": {},
          "execution_count": 63
        },
        {
          "output_type": "display_data",
          "data": {
            "text/plain": [
              "<Figure size 432x288 with 1 Axes>"
            ],
            "image/png": "[encoded data removed]"
          },
          "metadata": {
            "needs_background": "light"
          }
        }
      ],
      "source": [
        "from scipy.fftpack import fft\n",
        "plt.plot(fft(X).real)"
      ]
    },
    {
      "cell_type": "markdown",
      "source": [
        "## Practice Problem 1 - Ranking Items in Array\n",
        "\n",
        "Given an input array a = [100,20,3,4000,5]\n",
        "\n",
        "We want to output array b = [3,2,0,4,1] which represents the rank of each element in array a. \n",
        "\n",
        "Another example:\n",
        "\n",
        "a = [2,5,1,10,6,4,3]\n",
        "\n",
        "b = [1,4,0,6,5,3,2]\n",
        "\n",
        "How can we achieve this? \n",
        "\n",
        "**Instructions:** \n",
        "\n",
        "Add your code to the function order() below to output the rank of each element in array a to a new array. If the output is False, keep trying. Otherwise, if the output is True, this means your code correctly creates an array that is the same as array b and therefore your code is correct. \n",
        "\n",
        "\n",
        "---\n",
        "\n",
        "\n",
        "*Hint: use np.argsort()*\n",
        "\n",
        "np.argsort() documentation and help: \n",
        "\n",
        "*   https://stackoverflow.com/questions/17901218/numpy-argsort-what-is-it-doing#:~:text=As%20the%20documentation%20says%2C%20argsort,that%20should%20be%20second%2C%20etc.\n",
        "*   https://numpy.org/doc/stable/reference/generated/numpy.argsort.html"
      ],
      "metadata": {
        "id": "casCrxilHQfJ"
      }
    },
    {
      "cell_type": "code",
      "source": [
        "import numpy as np\n",
        "\n",
        "# create a function called order that takes in an array as a parameter \n",
        "def order(a):\n",
        "  b = np.empty_like(a)\n",
        "  # add your code here to output sorted order as array b\n",
        "  b = np.argsort(np.argsort(a))\n",
        "  return b\n",
        "\n",
        "# create input array a\n",
        "a = np.array([100,20,3,4000,5])\n",
        "# create correct array b (for our purposes of checking)\n",
        "b = np.array([3,2,0,4,1])\n",
        "# check if your order function works (outputs True)\n",
        "np.allclose(b, order(a))"
      ],
      "metadata": {
        "colab": {
          "base_uri": "https://localhost:8080/"
        },
        "id": "NvweIxUiOueC",
        "outputId": "e19e9064-dbd6-474e-eb4c-6ebda3e019d4"
      },
      "execution_count": 24,
      "outputs": [
        {
          "output_type": "execute_result",
          "data": {
            "text/plain": [
              "True"
            ]
          },
          "metadata": {},
          "execution_count": 24
        }
      ]
    },
    {
      "cell_type": "code",
      "source": [],
      "metadata": {
        "id": "V2SHQOnSBOtt"
      },
      "execution_count": null,
      "outputs": []
    }
  ],
  "metadata": {
    "anaconda-cloud": {},
    "kernelspec": {
      "display_name": "Python 3",
      "name": "python3"
    },
    "language_info": {
      "name": "python"
    },
    "colab": {
      "provenance": []
    },
    "accelerator": "GPU",
    "gpuClass": "standard"
  },
  "nbformat": 4,
  "nbformat_minor": 0
}