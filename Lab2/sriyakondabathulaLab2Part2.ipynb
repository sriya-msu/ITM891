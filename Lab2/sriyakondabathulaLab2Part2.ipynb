{
  "cells": [
    {
      "cell_type": "code",
      "execution_count": 3,
      "metadata": {
        "collapsed": true,
        "id": "At8P37OYVcxl"
      },
      "outputs": [],
      "source": [
        "%matplotlib inline\n",
        "import numpy as np\n",
        "import matplotlib.pyplot as plt\n",
        "%load_ext autoreload\n",
        "%autoreload 2"
      ]
    },
    {
      "cell_type": "markdown",
      "metadata": {
        "id": "lO38UjP1Vcxo"
      },
      "source": [
        "Data Generation\n",
        "==="
      ]
    },
    {
      "cell_type": "code",
      "execution_count": 1,
      "metadata": {
        "collapsed": true,
        "id": "YJTDalYRVcxq"
      },
      "outputs": [],
      "source": [
        "num_samples, num_features = 10, 5"
      ]
    },
    {
      "cell_type": "code",
      "execution_count": 4,
      "metadata": {
        "collapsed": true,
        "id": "tbBE6syXVcxq"
      },
      "outputs": [],
      "source": [
        "np.random.seed(10)\n",
        "data = np.random.rand(num_samples, num_features)"
      ]
    },
    {
      "cell_type": "markdown",
      "metadata": {
        "id": "7BkYxPf_Vcxr"
      },
      "source": [
        "Solution\n",
        "==="
      ]
    },
    {
      "cell_type": "code",
      "execution_count": null,
      "metadata": {
        "scrolled": false,
        "colab": {
          "base_uri": "https://localhost:8080/"
        },
        "id": "4wsjNFMKVcxr",
        "outputId": "4de28114-db9e-48ff-a8bc-4d467b311fc5"
      },
      "outputs": [
        {
          "output_type": "stream",
          "name": "stdout",
          "text": [
            "[[0.77132064 0.02075195 0.63364823 0.74880388 0.49850701]\n",
            " [0.22479665 0.19806286 0.76053071 0.16911084 0.08833981]\n",
            " [0.68535982 0.95339335 0.00394827 0.51219226 0.81262096]\n",
            " [0.61252607 0.72175532 0.29187607 0.91777412 0.71457578]\n",
            " [0.54254437 0.14217005 0.37334076 0.67413362 0.44183317]\n",
            " [0.43401399 0.61776698 0.51313824 0.65039718 0.60103895]\n",
            " [0.8052232  0.52164715 0.90864888 0.31923609 0.09045935]\n",
            " [0.30070006 0.11398436 0.82868133 0.04689632 0.62628715]\n",
            " [0.54758616 0.819287   0.19894754 0.8568503  0.35165264]\n",
            " [0.75464769 0.29596171 0.88393648 0.32551164 0.1650159 ]]\n"
          ]
        }
      ],
      "source": [
        "print(data)"
      ]
    },
    {
      "cell_type": "markdown",
      "source": [
        "## Practice Problem 2 - Matrix Standardization\n",
        "\n",
        "The different dimensions or features of a data sample often show different variances. For some subsequent operations, it is a beneficial preprocessing step to standardize the data, i.e. **subtract the mean and divide by the standard deviation for each dimension**. After this processing, each dimension has zero mean and unit variance. Note that this is not equivalent to data whitening, which additionally de-correlates the dimensions (by means of a coordinate rotation). \n",
        "\n",
        "**Instructions:** Write a function that accepts data matrix $x\\in \\mathbb{R}^{n\\times d}$ as input and outputs the same data after normalization. $n$ is the number of samples, and $d$ is the number of dimensions, i.e. rows contain samples and columns features. "
      ],
      "metadata": {
        "id": "doN9K25YX3yY"
      }
    },
    {
      "cell_type": "code",
      "execution_count": 12,
      "metadata": {
        "collapsed": true,
        "id": "nQZHJi9XVcxr",
        "colab": {
          "base_uri": "https://localhost:8080/"
        },
        "outputId": "71b0ae69-a377-4e74-f562-5e46ace7eddc"
      },
      "outputs": [
        {
          "output_type": "stream",
          "name": "stdout",
          "text": [
            "[[ 1.0775774  -1.34411605  0.31525355  0.80665878  0.24128662]\n",
            " [-1.81711634 -0.77630186  0.74088404 -1.25592235 -1.42276759]\n",
            " [ 0.62228127  1.64254169 -1.797091   -0.03521894  1.51565143]\n",
            " [ 0.23651339  0.90075228 -0.83122987  1.40786459  1.11788073]\n",
            " [-0.13414844 -0.95529104 -0.55795449  0.54097769  0.01136005]\n",
            " [-0.70898541  0.56774371 -0.08900028  0.45652209  0.65726018]\n",
            " [ 1.2571441   0.25993298  1.23775021 -0.72176808 -1.4141686 ]\n",
            " [-1.41508984 -1.04555188  0.96949701 -1.69076861  0.75969247]\n",
            " [-0.10744434  1.21308427 -1.14296098  1.19109415 -0.35450368]\n",
            " [ 0.98926822 -0.46279408  1.15485183 -0.69943932 -1.11169162]]\n"
          ]
        }
      ],
      "source": [
        "def standardize(x):\n",
        "    # Enter your code here to standardize x\n",
        "    x = (x - np.mean(x, axis=0))/np.std(x, axis=0)\n",
        "    return x\n",
        "\n",
        "std_data = standardize(data)"
      ]
    },
    {
      "cell_type": "code",
      "execution_count": 13,
      "metadata": {
        "colab": {
          "base_uri": "https://localhost:8080/"
        },
        "id": "xhBh5UNLVcxs",
        "outputId": "52579997-75ff-4c94-991c-f380d2b3fddd"
      },
      "outputs": [
        {
          "output_type": "stream",
          "name": "stdout",
          "text": [
            "[[ 1.0775774  -1.34411605  0.31525355  0.80665878  0.24128662]\n",
            " [-1.81711634 -0.77630186  0.74088404 -1.25592235 -1.42276759]\n",
            " [ 0.62228127  1.64254169 -1.797091   -0.03521894  1.51565143]\n",
            " [ 0.23651339  0.90075228 -0.83122987  1.40786459  1.11788073]\n",
            " [-0.13414844 -0.95529104 -0.55795449  0.54097769  0.01136005]\n",
            " [-0.70898541  0.56774371 -0.08900028  0.45652209  0.65726018]\n",
            " [ 1.2571441   0.25993298  1.23775021 -0.72176808 -1.4141686 ]\n",
            " [-1.41508984 -1.04555188  0.96949701 -1.69076861  0.75969247]\n",
            " [-0.10744434  1.21308427 -1.14296098  1.19109415 -0.35450368]\n",
            " [ 0.98926822 -0.46279408  1.15485183 -0.69943932 -1.11169162]] \n",
            "\n",
            " [-1.66533454e-16  4.99600361e-17 -2.22044605e-17  1.11022302e-17\n",
            "  3.33066907e-16] \n",
            "\n",
            " [1. 1. 1. 1. 1.]\n"
          ]
        }
      ],
      "source": [
        "print(std_data, \"\\n\\n\", np.mean(std_data, axis=0), \"\\n\\n\", np.std(std_data, axis=0))"
      ]
    },
    {
      "cell_type": "code",
      "source": [],
      "metadata": {
        "id": "K-zIiSE7LsXn"
      },
      "execution_count": null,
      "outputs": []
    }
  ],
  "metadata": {
    "kernelspec": {
      "display_name": "Python 3 (ipykernel)",
      "language": "python",
      "name": "python3"
    },
    "language_info": {
      "codemirror_mode": {
        "name": "ipython",
        "version": 3
      },
      "file_extension": ".py",
      "mimetype": "text/x-python",
      "name": "python",
      "nbconvert_exporter": "python",
      "pygments_lexer": "ipython3",
      "version": "3.9.15"
    },
    "colab": {
      "provenance": []
    }
  },
  "nbformat": 4,
  "nbformat_minor": 0
}