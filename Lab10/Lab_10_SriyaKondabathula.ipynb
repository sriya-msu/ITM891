{
  "nbformat": 4,
  "nbformat_minor": 0,
  "metadata": {
    "colab": {
      "provenance": []
    },
    "kernelspec": {
      "name": "python3",
      "display_name": "Python 3"
    },
    "language_info": {
      "name": "python"
    },
    "accelerator": "TPU",
    "gpuClass": "standard"
  },
  "cells": [
    {
      "cell_type": "markdown",
      "source": [
        "### Problem 1: Generating Some Data As A Toy Example\n",
        "\n"
      ],
      "metadata": {
        "id": "qtt-crrf_Kth"
      }
    },
    {
      "cell_type": "markdown",
      "source": [
        "Generate three clusters of data as A, B, and C. \n",
        "\n",
        "* A = 10 (x,y) samples from the gaussian distribution, with mean=(0,0), cov=I, i.\n",
        "e., N(mean,std)\n",
        "\n",
        "* B = 10 (x,y) samples from the gaussian distribution, with mean=(4,4), cov=I, i.e., N(mean,std)\n",
        "\n",
        "* C = 10 (x,y) samples from the gaussian distribution, with mean=(-4,4), cov=I, i.e., N(mean,std)\n",
        "\n",
        "*Hint: use the multivariate_normal function, and set the mean, covariance, and size for each cluster.*"
      ],
      "metadata": {
        "id": "8-JtNg1qVEKW"
      }
    },
    {
      "cell_type": "code",
      "source": [
        "import numpy as np\n",
        "# Add code here to generate the three clusters\n",
        "A = np.random.multivariate_normal(mean=[0,0],cov=np.eye(2),size=10)\n",
        "B = np.random.multivariate_normal(mean=[4,4],cov=np.eye(2),size=10)\n",
        "C = np.random.multivariate_normal(mean=[-4,4],cov=np.eye(2),size=10)\n",
        "\n",
        "data = np.concatenate([A,B,C])\n",
        "data.shape"
      ],
      "metadata": {
        "id": "OS8Q_A0PB10T",
        "colab": {
          "base_uri": "https://localhost:8080/"
        },
        "outputId": "1f66a571-7058-4309-9cb5-76e8f1b95e5e"
      },
      "execution_count": 16,
      "outputs": [
        {
          "output_type": "execute_result",
          "data": {
            "text/plain": [
              "(30, 2)"
            ]
          },
          "metadata": {},
          "execution_count": 16
        }
      ]
    },
    {
      "cell_type": "markdown",
      "source": [
        "Visualize the true distribution of the samples by plotting them in a scatter plot. Plot the x and y coordinates for each sample in A, B, and C. Try to use a for loop to do this. "
      ],
      "metadata": {
        "id": "dXL-G-GxXsIP"
      }
    },
    {
      "cell_type": "code",
      "source": [
        "import matplotlib.pyplot as plt\n",
        "color_list = ['r','g','b']\n",
        "\n",
        "# Add your code here\n",
        "start_idx = 0\n",
        "end_idx = 10\n",
        "for i in range(len(color_list)):\n",
        "    plt.scatter(data[start_idx:end_idx,0], data[start_idx:end_idx,1], c=color_list[i])\n",
        "    start_idx = start_idx + 10\n",
        "    end_idx = end_idx + 10"
      ],
      "metadata": {
        "id": "TGD8RXxdbegZ",
        "colab": {
          "base_uri": "https://localhost:8080/",
          "height": 265
        },
        "outputId": "13f3cd1a-6d73-4359-e8f7-1ccc58a00f84"
      },
      "execution_count": 17,
      "outputs": [
        {
          "output_type": "display_data",
          "data": {
            "text/plain": [
              "<Figure size 432x288 with 1 Axes>"
            ],
            "image/png": "[encoded data removed]"
          },
          "metadata": {
            "needs_background": "light"
          }
        }
      ]
    },
    {
      "cell_type": "markdown",
      "source": [
        "### Problem 2: How can we cluster these points if we do not know the labels?"
      ],
      "metadata": {
        "id": "qDHKZuT9G0pD"
      }
    },
    {
      "cell_type": "markdown",
      "source": [
        "First, mix and shuffle the data, which includes A, B, and C. There's a function in the numpy library that will do this. \n",
        "\n",
        "Then, visualize the data through a scatter plot. "
      ],
      "metadata": {
        "id": "o4hDPTxean17"
      }
    },
    {
      "cell_type": "code",
      "source": [
        "# Add your code here to mix and shuffle the data. Make sure data contains A, B, and C.\n",
        "np.random.shuffle(data)\n",
        "# Add your code to visualize the samples through a scatter plot\n",
        "plt.scatter(data[:,0],data[:,1])"
      ],
      "metadata": {
        "colab": {
          "base_uri": "https://localhost:8080/",
          "height": 282
        },
        "id": "AvKhOTAXG4BT",
        "outputId": "ed97f703-e54a-4614-ea82-18fae4726b85"
      },
      "execution_count": 18,
      "outputs": [
        {
          "output_type": "execute_result",
          "data": {
            "text/plain": [
              "<matplotlib.collections.PathCollection at 0x7f3793df9610>"
            ]
          },
          "metadata": {},
          "execution_count": 18
        },
        {
          "output_type": "display_data",
          "data": {
            "text/plain": [
              "<Figure size 432x288 with 1 Axes>"
            ],
            "image/png": "[encoded data removed]"
          },
          "metadata": {
            "needs_background": "light"
          }
        }
      ]
    },
    {
      "cell_type": "code",
      "source": [
        "data"
      ],
      "metadata": {
        "colab": {
          "base_uri": "https://localhost:8080/"
        },
        "id": "VPH3uc9asn4x",
        "outputId": "b0a28f74-d409-4c68-be42-2e8bf9de0b0a"
      },
      "execution_count": 19,
      "outputs": [
        {
          "output_type": "execute_result",
          "data": {
            "text/plain": [
              "array([[-3.86776811,  4.16642229],\n",
              "       [-3.70344634,  4.25100938],\n",
              "       [ 2.3394258 ,  5.76306243],\n",
              "       [ 5.22105204,  5.11803038],\n",
              "       [-4.0239945 ,  2.59727371],\n",
              "       [ 0.42455393,  0.68766924],\n",
              "       [ 0.22094106, -1.43799923],\n",
              "       [ 0.81393689, -0.07582609],\n",
              "       [ 4.23176804,  2.57234583],\n",
              "       [ 3.65492971,  3.86888843],\n",
              "       [ 4.58891745,  5.72974037],\n",
              "       [-5.56826578,  4.51146881],\n",
              "       [-1.2456271 ,  1.60740745],\n",
              "       [-4.26017403,  4.89111534],\n",
              "       [ 1.22391169,  1.23321139],\n",
              "       [-0.11668419, -0.65265546],\n",
              "       [ 5.68579565,  4.20173006],\n",
              "       [ 4.99687373,  5.16172846],\n",
              "       [-1.14958088, -0.93401467],\n",
              "       [ 4.89300657,  4.24457307],\n",
              "       [ 0.92820575, -1.92442578],\n",
              "       [-1.12550474,  1.04814942],\n",
              "       [-1.87817768,  4.8325744 ],\n",
              "       [-1.64513497, -0.0484062 ],\n",
              "       [-5.13908726,  4.20624057],\n",
              "       [ 2.41204417,  2.10785178],\n",
              "       [-4.97185385,  2.61478414],\n",
              "       [-3.18510988,  6.66141702],\n",
              "       [ 4.68086903,  3.68566654],\n",
              "       [-3.58113989,  3.8625615 ]])"
            ]
          },
          "metadata": {},
          "execution_count": 19
        }
      ]
    },
    {
      "cell_type": "markdown",
      "source": [
        "Now, implement the K-Means algorithm yourself. \n"
      ],
      "metadata": {
        "id": "qZyhgzicgbAf"
      }
    },
    {
      "cell_type": "code",
      "source": [
        "# How many clusters should you have? Set the value of K based on the number of clusters you created in Problem 1.\n",
        "K = 3\n",
        "# Select three random points as initial centers (pick any three coordinates)\n",
        "centers = np.array([[0,0],[1,1],[-1,-1]]) \n",
        "\n",
        "# Now visualize the center and the samples. You can add a 'marker' parameter in the numpy scatterplot function to visualize where the center is. \n",
        "plt.scatter(data[:,0],data[:,1],c='blue')\n",
        "plt.scatter(centers[:,0],centers[:,1],c='red', marker='+')"
      ],
      "metadata": {
        "colab": {
          "base_uri": "https://localhost:8080/",
          "height": 282
        },
        "id": "x-dob_kcHC8L",
        "outputId": "7f8a7eb6-bfb4-4ca8-98bd-9441711bc630"
      },
      "execution_count": 20,
      "outputs": [
        {
          "output_type": "execute_result",
          "data": {
            "text/plain": [
              "<matplotlib.collections.PathCollection at 0x7f3793cba9a0>"
            ]
          },
          "metadata": {},
          "execution_count": 20
        },
        {
          "output_type": "display_data",
          "data": {
            "text/plain": [
              "<Figure size 432x288 with 1 Axes>"
            ],
            "image/png": "[encoded data removed]"
          },
          "metadata": {
            "needs_background": "light"
          }
        }
      ]
    },
    {
      "cell_type": "code",
      "source": [
        "# Create a new empty array of zeros to store the distances in \n",
        "dist = np.zeros([len(data),K])\n",
        "\n",
        "# Iterate through the clusters and fill the distance array \n",
        "# Calculate the distance between the sample to each class center. You can do this using the norm function.\n",
        "for i in range(K):\n",
        "  dist[:,i] = np.linalg.norm(data - centers[i], axis = 1)\n",
        "# dist"
      ],
      "metadata": {
        "id": "oGMkzaMzHEKO"
      },
      "execution_count": 22,
      "outputs": []
    },
    {
      "cell_type": "code",
      "source": [
        "# Assign the class of each sample to the closest center. You can use the numpy function argmin, which returns the indices of the minimum values along an axis.\n",
        "labels = np.argmin(dist, axis=1)\n",
        "\n",
        "# Visualize the initial cluster results for the three clusters: \n",
        "for i in range(K):\n",
        "  plt.scatter(data[labels==i][:,0],data[labels==i][:,1],c=color_list[i])"
      ],
      "metadata": {
        "colab": {
          "base_uri": "https://localhost:8080/",
          "height": 265
        },
        "id": "JA6ayEAeKAhQ",
        "outputId": "8336d864-30c7-47a6-865f-35bcf7714160"
      },
      "execution_count": 23,
      "outputs": [
        {
          "output_type": "display_data",
          "data": {
            "text/plain": [
              "<Figure size 432x288 with 1 Axes>"
            ],
            "image/png": "[encoded data removed]"
          },
          "metadata": {
            "needs_background": "light"
          }
        }
      ]
    },
    {
      "cell_type": "code",
      "source": [
        "# Find new centers and assign new labels to the samples, then visualize again\n",
        "for i in range(K):\n",
        "  centers[i] = np.mean(data[labels==i],axis=0)\n",
        "\n",
        "# Calculate the new distance the way you did before\n",
        "dist = np.zeros([len(data),K])\n",
        "for i in range(K):\n",
        "  dist[:,i] = np.linalg.norm(data-centers[i],axis = 1)\n",
        "\n",
        "# Assign new labels like you did before using argmin\n",
        "labels = np.argmin(dist, axis=1)\n",
        "\n",
        "# Visualize the data again \n",
        "for i in range(K):\n",
        "  plt.scatter(data[labels==i][:,0],data[labels==i][:,1],c=color_list[i])\n",
        "\n",
        "# Plot the centers as a scatter plot\n",
        "plt.scatter(centers[:,0],centers[:,1],c='b',marker='+')"
      ],
      "metadata": {
        "colab": {
          "base_uri": "https://localhost:8080/",
          "height": 282
        },
        "id": "D04-xAn4KiXD",
        "outputId": "a325f907-822b-49b6-b912-94c72dd8b40b"
      },
      "execution_count": 24,
      "outputs": [
        {
          "output_type": "execute_result",
          "data": {
            "text/plain": [
              "<matplotlib.collections.PathCollection at 0x7f3793b461f0>"
            ]
          },
          "metadata": {},
          "execution_count": 24
        },
        {
          "output_type": "display_data",
          "data": {
            "text/plain": [
              "<Figure size 432x288 with 1 Axes>"
            ],
            "image/png": "[encoded data removed]"
          },
          "metadata": {
            "needs_background": "light"
          }
        }
      ]
    },
    {
      "cell_type": "code",
      "source": [
        "# Iterate finding new centers and assigning new labels 5 times. Hint: you have all the code for one time above. \n",
        "for iter in range(5):\n",
        "  # Find new centers\n",
        "  for i in range(K):\n",
        "    centers[i] = np.mean(data[labels==i],axis=0)\n",
        "  # Calculate the new distance\n",
        "  dist = np.zeros([len(data),K])\n",
        "  for i in range(K):\n",
        "    dist[:,i] = np.linalg.norm(data-centers[i],axis = 1)\n",
        "  # Assign new labels\n",
        "  labels = np.argmin(dist, axis=1)\n",
        "  # Visualize in 5 figures respectively to see the convergence\n",
        "  plt.figure()\n",
        "  for i in range(K):\n",
        "    plt.scatter(data[labels==i][:,0],data[labels==i][:,1],c = color_list[i-1])\n",
        "  \n",
        "  plt.scatter(centers[:,0],centers[:,1],c='b',marker='+')"
      ],
      "metadata": {
        "colab": {
          "base_uri": "https://localhost:8080/",
          "height": 1000
        },
        "id": "qjgL94dDMFOK",
        "outputId": "f779c27d-9cb5-485f-fdb9-b68b929e7c53"
      },
      "execution_count": 25,
      "outputs": [
        {
          "output_type": "display_data",
          "data": {
            "text/plain": [
              "<Figure size 432x288 with 1 Axes>"
            ],
            "image/png": "[encoded data removed]"
          },
          "metadata": {
            "needs_background": "light"
          }
        },
        {
          "output_type": "display_data",
          "data": {
            "text/plain": [
              "<Figure size 432x288 with 1 Axes>"
            ],
            "image/png": "[encoded data removed]"
          },
          "metadata": {
            "needs_background": "light"
          }
        },
        {
          "output_type": "display_data",
          "data": {
            "text/plain": [
              "<Figure size 432x288 with 1 Axes>"
            ],
            "image/png": "[encoded data removed]"
          },
          "metadata": {
            "needs_background": "light"
          }
        },
        {
          "output_type": "display_data",
          "data": {
            "text/plain": [
              "<Figure size 432x288 with 1 Axes>"
            ],
            "image/png": "[encoded data removed]"
          },
          "metadata": {
            "needs_background": "light"
          }
        },
        {
          "output_type": "display_data",
          "data": {
            "text/plain": [
              "<Figure size 432x288 with 1 Axes>"
            ],
            "image/png": "[encoded data removed]"
          },
          "metadata": {
            "needs_background": "light"
          }
        }
      ]
    },
    {
      "cell_type": "code",
      "source": [],
      "metadata": {
        "id": "SVZyCmHLuzgK"
      },
      "execution_count": null,
      "outputs": []
    }
  ]
}