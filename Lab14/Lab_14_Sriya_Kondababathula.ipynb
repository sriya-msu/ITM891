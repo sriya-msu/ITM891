{
  "nbformat": 4,
  "nbformat_minor": 0,
  "metadata": {
    "colab": {
      "provenance": []
    },
    "kernelspec": {
      "name": "python3",
      "display_name": "Python 3"
    },
    "language_info": {
      "name": "python"
    }
  },
  "cells": [
    {
      "cell_type": "markdown",
      "source": [
        "##Part 1: CIFAR10 Classification\n",
        "\n",
        "Follow along the tutorial for CIFAR10 classification found here: https://pytorch.org/tutorials/beginner/blitz/cifar10_tutorial.html."
      ],
      "metadata": {
        "id": "s3CUAh9XeYCM"
      }
    },
    {
      "cell_type": "code",
      "execution_count": 1,
      "metadata": {
        "id": "84AjcT6cGb-x",
        "colab": {
          "base_uri": "https://localhost:8080/"
        },
        "outputId": "4db6ae9b-3b43-4727-a81f-12f498ee7011"
      },
      "outputs": [
        {
          "output_type": "stream",
          "name": "stdout",
          "text": [
            "Downloading https://www.cs.toronto.edu/~kriz/cifar-10-python.tar.gz to ./data/cifar-10-python.tar.gz\n"
          ]
        },
        {
          "output_type": "stream",
          "name": "stderr",
          "text": [
            "100%|██████████| 170498071/170498071 [00:05<00:00, 28953344.53it/s]\n"
          ]
        },
        {
          "output_type": "stream",
          "name": "stdout",
          "text": [
            "Extracting ./data/cifar-10-python.tar.gz to ./data\n",
            "Files already downloaded and verified\n"
          ]
        }
      ],
      "source": [
        "# Load the CIFAR10 data\n",
        "import torch\n",
        "import torchvision\n",
        "import torchvision.transforms as transforms\n",
        "\n",
        "transform = transforms.Compose([transforms.ToTensor(),transforms.Normalize((0.5, 0.5, 0.5), (0.5, 0.5, 0.5))])\n",
        "\n",
        "batch_size = 4\n",
        "trainset = torchvision.datasets.CIFAR10(root='./data', train=True, download=True, transform=transform)\n",
        "trainloader = torch.utils.data.DataLoader(trainset, batch_size=batch_size, shuffle=True, num_workers=2)\n",
        "testset = torchvision.datasets.CIFAR10(root='./data', train=False, download=True, transform=transform)\n",
        "testloader = torch.utils.data.DataLoader(testset, batch_size=batch_size, shuffle=False, num_workers=2)\n",
        "classes = ('plane', 'car', 'bird', 'cat', 'deer', 'dog', 'frog', 'horse', 'ship', 'truck')"
      ]
    },
    {
      "cell_type": "code",
      "source": [
        "# Visualize the data\n",
        "import matplotlib.pyplot as plt\n",
        "import numpy as np\n",
        "\n",
        "# Functions to show an image\n",
        "def imshow(img):\n",
        "    img = img / 2 + 0.5\n",
        "    npimg = img.numpy()\n",
        "    plt.imshow(np.transpose(npimg, (1, 2, 0)))\n",
        "    plt.show()\n",
        "\n",
        "# Get some random training images\n",
        "dataiter = iter(trainloader)\n",
        "images, labels = next(dataiter)\n",
        "\n",
        "# Show images\n",
        "imshow(torchvision.utils.make_grid(images))\n",
        "\n",
        "# Print labels\n",
        "print(' '.join(f'{classes[labels[j]]:5s}' for j in range(batch_size)))"
      ],
      "metadata": {
        "id": "7UrlJAlZPrnz",
        "colab": {
          "base_uri": "https://localhost:8080/",
          "height": 210
        },
        "outputId": "51ff7c79-386e-4b8f-d179-ddc723a6b026"
      },
      "execution_count": 2,
      "outputs": [
        {
          "output_type": "display_data",
          "data": {
            "text/plain": [
              "<Figure size 640x480 with 1 Axes>"
            ],
            "image/png": "[encoded data removed]"
          },
          "metadata": {}
        },
        {
          "output_type": "stream",
          "name": "stdout",
          "text": [
            "truck horse ship  cat  \n"
          ]
        }
      ]
    },
    {
      "cell_type": "code",
      "source": [
        "# Define the model\n",
        "import torch.nn as nn\n",
        "import torch.nn.functional as F\n",
        "\n",
        "class Net(nn.Module):\n",
        "    def __init__(self):\n",
        "        # Add code here\n",
        "        super().__init__()\n",
        "        self.conv1 = nn.Conv2d(3, 6, 5)\n",
        "        self.pool = nn.MaxPool2d(2, 2)\n",
        "        self.conv2 = nn.Conv2d(6, 16, 5)\n",
        "        self.fc1 = nn.Linear(16 * 5 * 5, 120)\n",
        "        self.fc2 = nn.Linear(120, 84)\n",
        "        self.fc3 = nn.Linear(84, 10)\n",
        "\n",
        "    def forward(self, x):\n",
        "        # Add code here\n",
        "        x = self.pool(F.relu(self.conv1(x)))\n",
        "        x = self.pool(F.relu(self.conv2(x)))\n",
        "        x = torch.flatten(x, 1)\n",
        "        x = F.relu(self.fc1(x))\n",
        "        x = F.relu(self.fc2(x))\n",
        "        x = self.fc3(x)\n",
        "        return x\n",
        "\n",
        "net = Net()"
      ],
      "metadata": {
        "id": "nejehJzGQt1C"
      },
      "execution_count": 3,
      "outputs": []
    },
    {
      "cell_type": "code",
      "source": [
        "# Define the loss and the optimizer\n",
        "import torch.optim as optim\n",
        "\n",
        "criterion = nn.CrossEntropyLoss()\n",
        "optimizer = optim.SGD(net.parameters(), lr=0.001, momentum=0.9)"
      ],
      "metadata": {
        "id": "z1OpfYK7QzwY"
      },
      "execution_count": 4,
      "outputs": []
    },
    {
      "cell_type": "code",
      "source": [
        "# Train the network\n",
        "for epoch in range(5):  # Loop over the dataset multiple times\n",
        "\n",
        "    running_loss = 0.0\n",
        "\n",
        "    for i, data in enumerate(trainloader, 0):\n",
        "        # Get the inputs; data is a list of [inputs, labels]\n",
        "        inputs, labels = data\n",
        "\n",
        "        # Zero the parameter gradients\n",
        "        optimizer.zero_grad()\n",
        "\n",
        "        # Forward + backward + optimize\n",
        "        outputs = net(inputs)\n",
        "        loss = criterion(outputs, labels)\n",
        "        loss.backward()\n",
        "        optimizer.step()\n",
        "\n",
        "        # Print statistics\n",
        "        running_loss += loss.item()\n",
        "        if i % 2000 == 1999:    # Print every 2000 mini-batches\n",
        "            # Add code here\n",
        "            print(f'[{epoch + 1}, {i + 1:5d}] loss: {running_loss / 2000:.3f}')\n",
        "            running_loss = 0.0\n",
        "\n",
        "print('Finished Training')"
      ],
      "metadata": {
        "id": "m_WAigBgQ6EW",
        "colab": {
          "base_uri": "https://localhost:8080/"
        },
        "outputId": "cbaf99ca-7cce-49b1-de38-3fd26e082bc5"
      },
      "execution_count": 5,
      "outputs": [
        {
          "output_type": "stream",
          "name": "stdout",
          "text": [
            "[1,  2000] loss: 2.208\n",
            "[1,  4000] loss: 1.830\n",
            "[1,  6000] loss: 1.648\n",
            "[1,  8000] loss: 1.568\n",
            "[1, 10000] loss: 1.497\n",
            "[1, 12000] loss: 1.480\n",
            "[2,  2000] loss: 1.408\n",
            "[2,  4000] loss: 1.391\n",
            "[2,  6000] loss: 1.353\n",
            "[2,  8000] loss: 1.320\n",
            "[2, 10000] loss: 1.301\n",
            "[2, 12000] loss: 1.291\n",
            "[3,  2000] loss: 1.231\n",
            "[3,  4000] loss: 1.224\n",
            "[3,  6000] loss: 1.212\n",
            "[3,  8000] loss: 1.199\n",
            "[3, 10000] loss: 1.203\n",
            "[3, 12000] loss: 1.212\n",
            "[4,  2000] loss: 1.099\n",
            "[4,  4000] loss: 1.125\n",
            "[4,  6000] loss: 1.136\n",
            "[4,  8000] loss: 1.129\n",
            "[4, 10000] loss: 1.110\n",
            "[4, 12000] loss: 1.114\n",
            "[5,  2000] loss: 1.016\n",
            "[5,  4000] loss: 1.058\n",
            "[5,  6000] loss: 1.065\n",
            "[5,  8000] loss: 1.056\n",
            "[5, 10000] loss: 1.076\n",
            "[5, 12000] loss: 1.054\n",
            "Finished Training\n"
          ]
        }
      ]
    },
    {
      "cell_type": "code",
      "source": [
        "# Test the network\n",
        "correct = 0\n",
        "total = 0\n",
        "# Since we're not training, we don't need to calculate the gradients for our outputs\n",
        "with torch.no_grad():\n",
        "    for data in testloader:\n",
        "        # Add code here...\n",
        "        images, labels = data\n",
        "        # Calculate outputs by running images through the network\n",
        "        outputs = net(images)\n",
        "        # The class with the highest energy is what we choose as prediction\n",
        "        _, predicted = torch.max(outputs.data, 1)\n",
        "        total += labels.size(0)\n",
        "        correct += (predicted == labels).sum().item()\n",
        "\n",
        "print(f'Accuracy of the network on the 10000 test images: {100 * correct // total} %')"
      ],
      "metadata": {
        "id": "fZQq7U4rRKNi",
        "colab": {
          "base_uri": "https://localhost:8080/"
        },
        "outputId": "e9418b54-1209-4553-ffc9-a3bbfbca5908"
      },
      "execution_count": 8,
      "outputs": [
        {
          "output_type": "stream",
          "name": "stdout",
          "text": [
            "Accuracy of the network on the 10000 test images: 59 %\n"
          ]
        }
      ]
    },
    {
      "cell_type": "markdown",
      "source": [
        "Train more epochs by editing the code above. Can you get the accuracy better than 60%? Write your answer below in code or text form."
      ],
      "metadata": {
        "id": "fZzjS69egq2G"
      }
    },
    {
      "cell_type": "markdown",
      "source": [
        "** Your answer here **\n",
        "\n",
        "Yes, we can almost get 60% accuracy by increasing epochs (5 here)."
      ],
      "metadata": {
        "id": "HcYpuMkcg71c"
      }
    },
    {
      "cell_type": "markdown",
      "source": [
        "##Part 2: SVHN Classification \n",
        "Follow the tutorial from above, replicating steps using the SVHN dataset instead of the CIFAR10. "
      ],
      "metadata": {
        "id": "hUB6WhFLe3lp"
      }
    },
    {
      "cell_type": "code",
      "source": [
        "# Load the SVHN data\n",
        "import torch\n",
        "import torchvision\n",
        "import torchvision.transforms as transforms\n",
        "\n",
        "transform = transforms.Compose([transforms.ToTensor(), transforms.Normalize((0.5, 0.5, 0.5), (0.5, 0.5, 0.5))])\n",
        "\n",
        "batch_size = 4\n",
        "\n",
        "trainset = torchvision.datasets.SVHN(root='./data', split = 'train', download=True, transform=transform)\n",
        "\n",
        "trainloader = torch.utils.data.DataLoader(trainset, batch_size=batch_size, shuffle=True, num_workers=2)\n",
        "\n",
        "testset = torchvision.datasets.SVHN(root='./data', split = 'test', download=True, transform=transform)\n",
        "\n",
        "testloader = torch.utils.data.DataLoader(testset, batch_size=batch_size, shuffle=False, num_workers=2)\n",
        "\n",
        "# Do not need the classes variable as there is no need to visualize"
      ],
      "metadata": {
        "id": "POwhJcWBVcXR",
        "colab": {
          "base_uri": "https://localhost:8080/"
        },
        "outputId": "b40f1b94-e9af-4c80-b650-64c6fba65c8c"
      },
      "execution_count": 9,
      "outputs": [
        {
          "output_type": "stream",
          "name": "stdout",
          "text": [
            "Downloading http://ufldl.stanford.edu/housenumbers/train_32x32.mat to ./data/train_32x32.mat\n"
          ]
        },
        {
          "output_type": "stream",
          "name": "stderr",
          "text": [
            "100%|██████████| 182040794/182040794 [00:16<00:00, 11129921.68it/s]\n"
          ]
        },
        {
          "output_type": "stream",
          "name": "stdout",
          "text": [
            "Downloading http://ufldl.stanford.edu/housenumbers/test_32x32.mat to ./data/test_32x32.mat\n"
          ]
        },
        {
          "output_type": "stream",
          "name": "stderr",
          "text": [
            "100%|██████████| 64275384/64275384 [00:10<00:00, 6071231.57it/s] \n"
          ]
        }
      ]
    },
    {
      "cell_type": "code",
      "source": [
        "# Define the mdoel\n",
        "import torch.nn as nn\n",
        "import torch.nn.functional as F\n",
        "\n",
        "class Net(nn.Module):\n",
        "    def __init__(self):\n",
        "        # Add code here\n",
        "        super().__init__()\n",
        "        self.conv1 = nn.Conv2d(3, 6, 5)\n",
        "        self.pool = nn.MaxPool2d(2, 2)\n",
        "        self.conv2 = nn.Conv2d(6, 16, 5)\n",
        "        self.fc1 = nn.Linear(16 * 5 * 5, 120)\n",
        "        self.fc2 = nn.Linear(120, 84)\n",
        "        self.fc3 = nn.Linear(84, 10)\n",
        "\n",
        "    def forward(self, x):\n",
        "        # Add code here\n",
        "        x = self.pool(F.relu(self.conv1(x)))\n",
        "        x = self.pool(F.relu(self.conv2(x)))\n",
        "        x = torch.flatten(x, 1)\n",
        "        x = F.relu(self.fc1(x))\n",
        "        x = F.relu(self.fc2(x))\n",
        "        x = self.fc3(x)\n",
        "        return x\n",
        "\n",
        "net = Net()"
      ],
      "metadata": {
        "id": "0XCG7nsOWiRK"
      },
      "execution_count": 10,
      "outputs": []
    },
    {
      "cell_type": "code",
      "source": [
        "# Define the loss and the optimizer\n",
        "import torch.optim as optim\n",
        "\n",
        "criterion = nn.CrossEntropyLoss()\n",
        "optimizer = optim.SGD(net.parameters(), lr=0.001, momentum=0.9)"
      ],
      "metadata": {
        "id": "nQKLiVJnW1T4"
      },
      "execution_count": 11,
      "outputs": []
    },
    {
      "cell_type": "code",
      "source": [
        "# Train the network\n",
        "for epoch in range(5):  # Loop over the dataset multiple times\n",
        "\n",
        "    running_loss = 0.0\n",
        "\n",
        "    for i, data in enumerate(trainloader, 0):\n",
        "        # Get the inputs; data is a list of [inputs, labels]\n",
        "        inputs, labels = data\n",
        "\n",
        "        # Zero the parameter gradients\n",
        "        optimizer.zero_grad()\n",
        "\n",
        "        # Forward + backward + optimize\n",
        "        outputs = net(inputs)\n",
        "        loss = criterion(outputs, labels)\n",
        "        loss.backward()\n",
        "        optimizer.step()\n",
        "\n",
        "        # Print statistics\n",
        "        running_loss += loss.item()\n",
        "        if i % 2000 == 1999:    # Print every 2000 mini-batches\n",
        "            # Add code here\n",
        "            print(f'[{epoch + 1}, {i + 1:5d}] loss: {running_loss / 2000:.3f}')\n",
        "            running_loss = 0.0\n",
        "\n",
        "print('Finished Training')"
      ],
      "metadata": {
        "id": "m3vwNE90W3Q8",
        "colab": {
          "base_uri": "https://localhost:8080/"
        },
        "outputId": "f06b0503-e13b-4dff-c765-ae299037b905"
      },
      "execution_count": 12,
      "outputs": [
        {
          "output_type": "stream",
          "name": "stdout",
          "text": [
            "[1,  2000] loss: 2.246\n",
            "[1,  4000] loss: 2.238\n",
            "[1,  6000] loss: 2.223\n",
            "[1,  8000] loss: 1.842\n",
            "[1, 10000] loss: 1.035\n",
            "[1, 12000] loss: 0.775\n",
            "[1, 14000] loss: 0.672\n",
            "[1, 16000] loss: 0.605\n",
            "[1, 18000] loss: 0.560\n",
            "[2,  2000] loss: 0.497\n",
            "[2,  4000] loss: 0.495\n",
            "[2,  6000] loss: 0.505\n",
            "[2,  8000] loss: 0.473\n",
            "[2, 10000] loss: 0.464\n",
            "[2, 12000] loss: 0.448\n",
            "[2, 14000] loss: 0.445\n",
            "[2, 16000] loss: 0.431\n",
            "[2, 18000] loss: 0.448\n",
            "[3,  2000] loss: 0.382\n",
            "[3,  4000] loss: 0.396\n",
            "[3,  6000] loss: 0.395\n",
            "[3,  8000] loss: 0.373\n",
            "[3, 10000] loss: 0.375\n",
            "[3, 12000] loss: 0.379\n",
            "[3, 14000] loss: 0.388\n",
            "[3, 16000] loss: 0.400\n",
            "[3, 18000] loss: 0.380\n",
            "[4,  2000] loss: 0.338\n",
            "[4,  4000] loss: 0.342\n",
            "[4,  6000] loss: 0.330\n",
            "[4,  8000] loss: 0.355\n",
            "[4, 10000] loss: 0.332\n",
            "[4, 12000] loss: 0.345\n",
            "[4, 14000] loss: 0.338\n",
            "[4, 16000] loss: 0.341\n",
            "[4, 18000] loss: 0.340\n",
            "[5,  2000] loss: 0.274\n",
            "[5,  4000] loss: 0.312\n",
            "[5,  6000] loss: 0.300\n",
            "[5,  8000] loss: 0.323\n",
            "[5, 10000] loss: 0.304\n",
            "[5, 12000] loss: 0.321\n",
            "[5, 14000] loss: 0.303\n",
            "[5, 16000] loss: 0.314\n",
            "[5, 18000] loss: 0.325\n",
            "Finished Training\n"
          ]
        }
      ]
    },
    {
      "cell_type": "code",
      "source": [
        "# Test the network\n",
        "correct = 0\n",
        "total = 0\n",
        "# Since we're not training, we don't need to calculate the gradients for our outputs\n",
        "with torch.no_grad():\n",
        "    for data in testloader:\n",
        "        images, labels = data\n",
        "        # Calculate outputs by running images through the network\n",
        "        outputs = net(images)\n",
        "        # The class with the highest energy is what we choose as prediction\n",
        "        _, predicted = torch.max(outputs.data, 1)\n",
        "        total += labels.size(0)\n",
        "        correct += (predicted == labels).sum().item()\n",
        "\n",
        "print(f'Accuracy of the network on the 10000 test images: {100 * correct // total} %')"
      ],
      "metadata": {
        "id": "-wOQmsKDW6QG",
        "colab": {
          "base_uri": "https://localhost:8080/"
        },
        "outputId": "224fb910-0b13-47a2-c51a-52509ecfac43"
      },
      "execution_count": 13,
      "outputs": [
        {
          "output_type": "stream",
          "name": "stdout",
          "text": [
            "Accuracy of the network on the 10000 test images: 87 %\n"
          ]
        }
      ]
    },
    {
      "cell_type": "markdown",
      "source": [
        "Can you get a better accuracy than your Homework 3? Write your answer below in code or text form. "
      ],
      "metadata": {
        "id": "uir-J3ZUhCwq"
      }
    },
    {
      "cell_type": "markdown",
      "source": [
        "** Your answer here **\n",
        "\n",
        "Yes, the accuracy I got above is 87% using 5 epochs which is lot better compared to the accuracy of around 30% I got in Homework3."
      ],
      "metadata": {
        "id": "KOOSRVWnhKAP"
      }
    },
    {
      "cell_type": "code",
      "source": [],
      "metadata": {
        "id": "Tplbyq1TraAk"
      },
      "execution_count": null,
      "outputs": []
    }
  ]
}